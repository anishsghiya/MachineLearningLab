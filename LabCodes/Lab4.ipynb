{
  "nbformat": 4,
  "nbformat_minor": 0,
  "metadata": {
    "colab": {
      "name": "Untitled24.ipynb",
      "provenance": []
    },
    "kernelspec": {
      "name": "python3",
      "display_name": "Python 3"
    },
    "language_info": {
      "name": "python"
    }
  },
  "cells": [
    {
      "cell_type": "markdown",
      "metadata": {
        "id": "R_eUIABTUsll"
      },
      "source": [
        "# Lab 4\n",
        "https://colab.research.google.com/drive/13d_oQJjOEXQgiCsLxMjnrJTTizVzmYFW?usp=sharing"
      ]
    },
    {
      "cell_type": "markdown",
      "metadata": {
        "id": "ATdp3bMcOpOl"
      },
      "source": [
        "1 importing the required dependancies"
      ]
    },
    {
      "cell_type": "code",
      "metadata": {
        "id": "9Ec7TgYUUZ5m"
      },
      "source": [
        "import numpy as np\n",
        "import pandas as pd\n",
        "import pickle\n",
        "import matplotlib.pyplot as plt"
      ],
      "execution_count": null,
      "outputs": []
    },
    {
      "cell_type": "markdown",
      "metadata": {
        "id": "y65qAKImOvCg"
      },
      "source": [
        "2 reading the files into a dataframe"
      ]
    },
    {
      "cell_type": "code",
      "metadata": {
        "id": "_D2TLZkgUqtA"
      },
      "source": [
        "train = pd.read_csv('/content/trainT.csv')"
      ],
      "execution_count": null,
      "outputs": []
    },
    {
      "cell_type": "markdown",
      "metadata": {
        "id": "kEdVazRMOxp8"
      },
      "source": [
        "3 displaying the first 5 lines and shape of the dataset"
      ]
    },
    {
      "cell_type": "code",
      "metadata": {
        "colab": {
          "base_uri": "https://localhost:8080/",
          "height": 225
        },
        "id": "rO4Tm2zFVQBl",
        "outputId": "c6e0f78b-7630-4bc3-a3b9-b1130a8f1d4b"
      },
      "source": [
        "display(train.head())\n",
        "print(train.shape)"
      ],
      "execution_count": null,
      "outputs": [
        {
          "output_type": "display_data",
          "data": {
            "text/html": [
              "<div>\n",
              "<style scoped>\n",
              "    .dataframe tbody tr th:only-of-type {\n",
              "        vertical-align: middle;\n",
              "    }\n",
              "\n",
              "    .dataframe tbody tr th {\n",
              "        vertical-align: top;\n",
              "    }\n",
              "\n",
              "    .dataframe thead th {\n",
              "        text-align: right;\n",
              "    }\n",
              "</style>\n",
              "<table border=\"1\" class=\"dataframe\">\n",
              "  <thead>\n",
              "    <tr style=\"text-align: right;\">\n",
              "      <th></th>\n",
              "      <th>PassengerId</th>\n",
              "      <th>Survived</th>\n",
              "      <th>Pclass</th>\n",
              "      <th>Name</th>\n",
              "      <th>Sex</th>\n",
              "      <th>Age</th>\n",
              "      <th>SibSp</th>\n",
              "      <th>Parch</th>\n",
              "      <th>Ticket</th>\n",
              "      <th>Fare</th>\n",
              "      <th>Cabin</th>\n",
              "      <th>Embarked</th>\n",
              "    </tr>\n",
              "  </thead>\n",
              "  <tbody>\n",
              "    <tr>\n",
              "      <th>0</th>\n",
              "      <td>1</td>\n",
              "      <td>0</td>\n",
              "      <td>3</td>\n",
              "      <td>Braund, Mr. Owen Harris</td>\n",
              "      <td>male</td>\n",
              "      <td>22.0</td>\n",
              "      <td>1</td>\n",
              "      <td>0</td>\n",
              "      <td>A/5 21171</td>\n",
              "      <td>7.2500</td>\n",
              "      <td>NaN</td>\n",
              "      <td>S</td>\n",
              "    </tr>\n",
              "    <tr>\n",
              "      <th>1</th>\n",
              "      <td>2</td>\n",
              "      <td>1</td>\n",
              "      <td>1</td>\n",
              "      <td>Cumings, Mrs. John Bradley (Florence Briggs Th...</td>\n",
              "      <td>female</td>\n",
              "      <td>38.0</td>\n",
              "      <td>1</td>\n",
              "      <td>0</td>\n",
              "      <td>PC 17599</td>\n",
              "      <td>71.2833</td>\n",
              "      <td>C85</td>\n",
              "      <td>C</td>\n",
              "    </tr>\n",
              "    <tr>\n",
              "      <th>2</th>\n",
              "      <td>3</td>\n",
              "      <td>1</td>\n",
              "      <td>3</td>\n",
              "      <td>Heikkinen, Miss. Laina</td>\n",
              "      <td>female</td>\n",
              "      <td>26.0</td>\n",
              "      <td>0</td>\n",
              "      <td>0</td>\n",
              "      <td>STON/O2. 3101282</td>\n",
              "      <td>7.9250</td>\n",
              "      <td>NaN</td>\n",
              "      <td>S</td>\n",
              "    </tr>\n",
              "    <tr>\n",
              "      <th>3</th>\n",
              "      <td>4</td>\n",
              "      <td>1</td>\n",
              "      <td>1</td>\n",
              "      <td>Futrelle, Mrs. Jacques Heath (Lily May Peel)</td>\n",
              "      <td>female</td>\n",
              "      <td>35.0</td>\n",
              "      <td>1</td>\n",
              "      <td>0</td>\n",
              "      <td>113803</td>\n",
              "      <td>53.1000</td>\n",
              "      <td>C123</td>\n",
              "      <td>S</td>\n",
              "    </tr>\n",
              "    <tr>\n",
              "      <th>4</th>\n",
              "      <td>5</td>\n",
              "      <td>0</td>\n",
              "      <td>3</td>\n",
              "      <td>Allen, Mr. William Henry</td>\n",
              "      <td>male</td>\n",
              "      <td>35.0</td>\n",
              "      <td>0</td>\n",
              "      <td>0</td>\n",
              "      <td>373450</td>\n",
              "      <td>8.0500</td>\n",
              "      <td>NaN</td>\n",
              "      <td>S</td>\n",
              "    </tr>\n",
              "  </tbody>\n",
              "</table>\n",
              "</div>"
            ],
            "text/plain": [
              "   PassengerId  Survived  Pclass  ...     Fare Cabin  Embarked\n",
              "0            1         0       3  ...   7.2500   NaN         S\n",
              "1            2         1       1  ...  71.2833   C85         C\n",
              "2            3         1       3  ...   7.9250   NaN         S\n",
              "3            4         1       1  ...  53.1000  C123         S\n",
              "4            5         0       3  ...   8.0500   NaN         S\n",
              "\n",
              "[5 rows x 12 columns]"
            ]
          },
          "metadata": {
            "tags": []
          }
        },
        {
          "output_type": "stream",
          "text": [
            "(891, 12)\n"
          ],
          "name": "stdout"
        }
      ]
    },
    {
      "cell_type": "markdown",
      "metadata": {
        "id": "FJlRT491O3sJ"
      },
      "source": [
        "4 taking few columns of train to make a new dataframe"
      ]
    },
    {
      "cell_type": "code",
      "metadata": {
        "id": "D1grV4uwVZYt"
      },
      "source": [
        "df = train[['Survived', 'Pclass', 'Sex', 'Age', 'Fare']]"
      ],
      "execution_count": null,
      "outputs": []
    },
    {
      "cell_type": "code",
      "metadata": {
        "colab": {
          "base_uri": "https://localhost:8080/",
          "height": 206
        },
        "id": "vSGmRMrfWmmh",
        "outputId": "660ca457-ca52-4e91-8d4c-05126e3b5d74"
      },
      "source": [
        "df.head()"
      ],
      "execution_count": null,
      "outputs": [
        {
          "output_type": "execute_result",
          "data": {
            "text/html": [
              "<div>\n",
              "<style scoped>\n",
              "    .dataframe tbody tr th:only-of-type {\n",
              "        vertical-align: middle;\n",
              "    }\n",
              "\n",
              "    .dataframe tbody tr th {\n",
              "        vertical-align: top;\n",
              "    }\n",
              "\n",
              "    .dataframe thead th {\n",
              "        text-align: right;\n",
              "    }\n",
              "</style>\n",
              "<table border=\"1\" class=\"dataframe\">\n",
              "  <thead>\n",
              "    <tr style=\"text-align: right;\">\n",
              "      <th></th>\n",
              "      <th>Survived</th>\n",
              "      <th>Pclass</th>\n",
              "      <th>Sex</th>\n",
              "      <th>Age</th>\n",
              "      <th>Fare</th>\n",
              "    </tr>\n",
              "  </thead>\n",
              "  <tbody>\n",
              "    <tr>\n",
              "      <th>0</th>\n",
              "      <td>0</td>\n",
              "      <td>3</td>\n",
              "      <td>male</td>\n",
              "      <td>22.0</td>\n",
              "      <td>7.2500</td>\n",
              "    </tr>\n",
              "    <tr>\n",
              "      <th>1</th>\n",
              "      <td>1</td>\n",
              "      <td>1</td>\n",
              "      <td>female</td>\n",
              "      <td>38.0</td>\n",
              "      <td>71.2833</td>\n",
              "    </tr>\n",
              "    <tr>\n",
              "      <th>2</th>\n",
              "      <td>1</td>\n",
              "      <td>3</td>\n",
              "      <td>female</td>\n",
              "      <td>26.0</td>\n",
              "      <td>7.9250</td>\n",
              "    </tr>\n",
              "    <tr>\n",
              "      <th>3</th>\n",
              "      <td>1</td>\n",
              "      <td>1</td>\n",
              "      <td>female</td>\n",
              "      <td>35.0</td>\n",
              "      <td>53.1000</td>\n",
              "    </tr>\n",
              "    <tr>\n",
              "      <th>4</th>\n",
              "      <td>0</td>\n",
              "      <td>3</td>\n",
              "      <td>male</td>\n",
              "      <td>35.0</td>\n",
              "      <td>8.0500</td>\n",
              "    </tr>\n",
              "  </tbody>\n",
              "</table>\n",
              "</div>"
            ],
            "text/plain": [
              "   Survived  Pclass     Sex   Age     Fare\n",
              "0         0       3    male  22.0   7.2500\n",
              "1         1       1  female  38.0  71.2833\n",
              "2         1       3  female  26.0   7.9250\n",
              "3         1       1  female  35.0  53.1000\n",
              "4         0       3    male  35.0   8.0500"
            ]
          },
          "metadata": {
            "tags": []
          },
          "execution_count": 5
        }
      ]
    },
    {
      "cell_type": "code",
      "metadata": {
        "colab": {
          "base_uri": "https://localhost:8080/"
        },
        "id": "uAf4-uqSWn0o",
        "outputId": "f3c435f6-08f8-41c9-c6cd-e6c00828500e"
      },
      "source": [
        "df['Sex'].value_counts()"
      ],
      "execution_count": null,
      "outputs": [
        {
          "output_type": "execute_result",
          "data": {
            "text/plain": [
              "male      577\n",
              "female    314\n",
              "Name: Sex, dtype: int64"
            ]
          },
          "metadata": {
            "tags": []
          },
          "execution_count": 13
        }
      ]
    },
    {
      "cell_type": "markdown",
      "metadata": {
        "id": "QQsNj_SBO7dR"
      },
      "source": [
        "5 Label Encoding for the 'Sex' column ie converting the male to 0 and female to 1"
      ]
    },
    {
      "cell_type": "code",
      "metadata": {
        "colab": {
          "base_uri": "https://localhost:8080/"
        },
        "id": "4FyVcWVrWv-G",
        "outputId": "030e008a-2453-4f38-d323-7bab8a3c39e9"
      },
      "source": [
        "df['Sex'] = df['Sex'].apply(lambda sex:1 if sex=='male' else 0)\n",
        "\n",
        "#Alternate approaches to label encoding \n",
        "# df['Sex'] = df['Sex'].map({'male':0, 'female':1})"
      ],
      "execution_count": null,
      "outputs": [
        {
          "output_type": "stream",
          "text": [
            "/usr/local/lib/python3.7/dist-packages/ipykernel_launcher.py:3: SettingWithCopyWarning: \n",
            "A value is trying to be set on a copy of a slice from a DataFrame.\n",
            "Try using .loc[row_indexer,col_indexer] = value instead\n",
            "\n",
            "See the caveats in the documentation: https://pandas.pydata.org/pandas-docs/stable/user_guide/indexing.html#returning-a-view-versus-a-copy\n",
            "  This is separate from the ipykernel package so we can avoid doing imports until\n"
          ],
          "name": "stderr"
        }
      ]
    },
    {
      "cell_type": "code",
      "metadata": {
        "colab": {
          "base_uri": "https://localhost:8080/",
          "height": 206
        },
        "id": "u7ZUybHpXPty",
        "outputId": "2dd7d11c-193a-4e73-95db-fd59b2dadf21"
      },
      "source": [
        "df.head()"
      ],
      "execution_count": null,
      "outputs": [
        {
          "output_type": "execute_result",
          "data": {
            "text/html": [
              "<div>\n",
              "<style scoped>\n",
              "    .dataframe tbody tr th:only-of-type {\n",
              "        vertical-align: middle;\n",
              "    }\n",
              "\n",
              "    .dataframe tbody tr th {\n",
              "        vertical-align: top;\n",
              "    }\n",
              "\n",
              "    .dataframe thead th {\n",
              "        text-align: right;\n",
              "    }\n",
              "</style>\n",
              "<table border=\"1\" class=\"dataframe\">\n",
              "  <thead>\n",
              "    <tr style=\"text-align: right;\">\n",
              "      <th></th>\n",
              "      <th>Survived</th>\n",
              "      <th>Pclass</th>\n",
              "      <th>Sex</th>\n",
              "      <th>Age</th>\n",
              "      <th>Fare</th>\n",
              "    </tr>\n",
              "  </thead>\n",
              "  <tbody>\n",
              "    <tr>\n",
              "      <th>0</th>\n",
              "      <td>0</td>\n",
              "      <td>3</td>\n",
              "      <td>1</td>\n",
              "      <td>22.0</td>\n",
              "      <td>7.2500</td>\n",
              "    </tr>\n",
              "    <tr>\n",
              "      <th>1</th>\n",
              "      <td>1</td>\n",
              "      <td>1</td>\n",
              "      <td>0</td>\n",
              "      <td>38.0</td>\n",
              "      <td>71.2833</td>\n",
              "    </tr>\n",
              "    <tr>\n",
              "      <th>2</th>\n",
              "      <td>1</td>\n",
              "      <td>3</td>\n",
              "      <td>0</td>\n",
              "      <td>26.0</td>\n",
              "      <td>7.9250</td>\n",
              "    </tr>\n",
              "    <tr>\n",
              "      <th>3</th>\n",
              "      <td>1</td>\n",
              "      <td>1</td>\n",
              "      <td>0</td>\n",
              "      <td>35.0</td>\n",
              "      <td>53.1000</td>\n",
              "    </tr>\n",
              "    <tr>\n",
              "      <th>4</th>\n",
              "      <td>0</td>\n",
              "      <td>3</td>\n",
              "      <td>1</td>\n",
              "      <td>35.0</td>\n",
              "      <td>8.0500</td>\n",
              "    </tr>\n",
              "  </tbody>\n",
              "</table>\n",
              "</div>"
            ],
            "text/plain": [
              "   Survived  Pclass  Sex   Age     Fare\n",
              "0         0       3    1  22.0   7.2500\n",
              "1         1       1    0  38.0  71.2833\n",
              "2         1       3    0  26.0   7.9250\n",
              "3         1       1    0  35.0  53.1000\n",
              "4         0       3    1  35.0   8.0500"
            ]
          },
          "metadata": {
            "tags": []
          },
          "execution_count": 13
        }
      ]
    },
    {
      "cell_type": "markdown",
      "metadata": {
        "id": "T6Rm3zxTPQHp"
      },
      "source": [
        "6 checking the number of NA's present in the dataset"
      ]
    },
    {
      "cell_type": "code",
      "metadata": {
        "colab": {
          "base_uri": "https://localhost:8080/",
          "height": 442
        },
        "id": "yv87MbMTXS13",
        "outputId": "a6c15008-f6d5-4130-862d-8b868ef863af"
      },
      "source": [
        "print(\"Checking the NA's in the dataframe\")\n",
        "display(df.isna().sum())\n",
        "print(\"\\nInfo of the datset\\n\")\n",
        "display(df.info())"
      ],
      "execution_count": null,
      "outputs": [
        {
          "output_type": "stream",
          "text": [
            "Checking the NA's in the dataframe\n"
          ],
          "name": "stdout"
        },
        {
          "output_type": "display_data",
          "data": {
            "text/plain": [
              "Survived      0\n",
              "Pclass        0\n",
              "Sex           0\n",
              "Age         177\n",
              "Fare          0\n",
              "dtype: int64"
            ]
          },
          "metadata": {
            "tags": []
          }
        },
        {
          "output_type": "stream",
          "text": [
            "\n",
            "Info of the datset\n",
            "\n",
            "<class 'pandas.core.frame.DataFrame'>\n",
            "RangeIndex: 891 entries, 0 to 890\n",
            "Data columns (total 5 columns):\n",
            " #   Column    Non-Null Count  Dtype  \n",
            "---  ------    --------------  -----  \n",
            " 0   Survived  891 non-null    int64  \n",
            " 1   Pclass    891 non-null    int64  \n",
            " 2   Sex       891 non-null    int64  \n",
            " 3   Age       714 non-null    float64\n",
            " 4   Fare      891 non-null    float64\n",
            "dtypes: float64(2), int64(3)\n",
            "memory usage: 34.9 KB\n"
          ],
          "name": "stdout"
        },
        {
          "output_type": "display_data",
          "data": {
            "text/plain": [
              "None"
            ]
          },
          "metadata": {
            "tags": []
          }
        }
      ]
    },
    {
      "cell_type": "markdown",
      "metadata": {
        "id": "WlFRxVHXPTTc"
      },
      "source": [
        "7 filling the NA values with the median of the column"
      ]
    },
    {
      "cell_type": "code",
      "metadata": {
        "colab": {
          "base_uri": "https://localhost:8080/"
        },
        "id": "8qWn6PldX5gs",
        "outputId": "545e460f-20c9-49ad-ad66-2cf9990f1f08"
      },
      "source": [
        "df['Age'] = df['Age'].fillna(df['Age'].fillna(df['Age'].median()))"
      ],
      "execution_count": null,
      "outputs": [
        {
          "output_type": "stream",
          "text": [
            "/usr/local/lib/python3.7/dist-packages/ipykernel_launcher.py:2: SettingWithCopyWarning: \n",
            "A value is trying to be set on a copy of a slice from a DataFrame.\n",
            "Try using .loc[row_indexer,col_indexer] = value instead\n",
            "\n",
            "See the caveats in the documentation: https://pandas.pydata.org/pandas-docs/stable/user_guide/indexing.html#returning-a-view-versus-a-copy\n",
            "  \n"
          ],
          "name": "stderr"
        }
      ]
    },
    {
      "cell_type": "code",
      "metadata": {
        "colab": {
          "base_uri": "https://localhost:8080/"
        },
        "id": "ezPoDmRXYzhD",
        "outputId": "7acc5660-ff46-4c9c-8668-02f1e2fe20ed"
      },
      "source": [
        "#verifying the fillna function\n",
        "df['Age'].isna().sum()"
      ],
      "execution_count": null,
      "outputs": [
        {
          "output_type": "execute_result",
          "data": {
            "text/plain": [
              "0"
            ]
          },
          "metadata": {
            "tags": []
          },
          "execution_count": 11
        }
      ]
    },
    {
      "cell_type": "markdown",
      "metadata": {
        "id": "OboFnkSVPkpJ"
      },
      "source": [
        "8 Splitting the dataset into target and instance values "
      ]
    },
    {
      "cell_type": "code",
      "metadata": {
        "id": "zODGMfcfY09R"
      },
      "source": [
        "X = df.drop('Survived', axis=1)\n",
        "y = df['Survived']"
      ],
      "execution_count": null,
      "outputs": []
    },
    {
      "cell_type": "markdown",
      "metadata": {
        "id": "WVLBoJ_KP6RQ"
      },
      "source": [
        "9 Splitting the dataset into train and test"
      ]
    },
    {
      "cell_type": "code",
      "metadata": {
        "id": "qrpCrGUiaML_"
      },
      "source": [
        "from sklearn.model_selection import train_test_split\n",
        "X_train, X_test, y_train, y_test = train_test_split(X, y, test_size=0.3, random_state=0)"
      ],
      "execution_count": null,
      "outputs": []
    },
    {
      "cell_type": "code",
      "metadata": {
        "colab": {
          "base_uri": "https://localhost:8080/"
        },
        "id": "CtcNX3U-aNh-",
        "outputId": "d55ac06e-5c34-41eb-cb09-4c72d1c31ba7"
      },
      "source": [
        "#using the help function to get the parameters and the other details about the train_test_split\n",
        "help(train_test_split)"
      ],
      "execution_count": null,
      "outputs": [
        {
          "output_type": "stream",
          "text": [
            "Help on function train_test_split in module sklearn.model_selection._split:\n",
            "\n",
            "train_test_split(*arrays, **options)\n",
            "    Split arrays or matrices into random train and test subsets\n",
            "    \n",
            "    Quick utility that wraps input validation and\n",
            "    ``next(ShuffleSplit().split(X, y))`` and application to input data\n",
            "    into a single call for splitting (and optionally subsampling) data in a\n",
            "    oneliner.\n",
            "    \n",
            "    Read more in the :ref:`User Guide <cross_validation>`.\n",
            "    \n",
            "    Parameters\n",
            "    ----------\n",
            "    *arrays : sequence of indexables with same length / shape[0]\n",
            "        Allowed inputs are lists, numpy arrays, scipy-sparse\n",
            "        matrices or pandas dataframes.\n",
            "    \n",
            "    test_size : float, int or None, optional (default=None)\n",
            "        If float, should be between 0.0 and 1.0 and represent the proportion\n",
            "        of the dataset to include in the test split. If int, represents the\n",
            "        absolute number of test samples. If None, the value is set to the\n",
            "        complement of the train size. If ``train_size`` is also None, it will\n",
            "        be set to 0.25.\n",
            "    \n",
            "    train_size : float, int, or None, (default=None)\n",
            "        If float, should be between 0.0 and 1.0 and represent the\n",
            "        proportion of the dataset to include in the train split. If\n",
            "        int, represents the absolute number of train samples. If None,\n",
            "        the value is automatically set to the complement of the test size.\n",
            "    \n",
            "    random_state : int, RandomState instance or None, optional (default=None)\n",
            "        If int, random_state is the seed used by the random number generator;\n",
            "        If RandomState instance, random_state is the random number generator;\n",
            "        If None, the random number generator is the RandomState instance used\n",
            "        by `np.random`.\n",
            "    \n",
            "    shuffle : boolean, optional (default=True)\n",
            "        Whether or not to shuffle the data before splitting. If shuffle=False\n",
            "        then stratify must be None.\n",
            "    \n",
            "    stratify : array-like or None (default=None)\n",
            "        If not None, data is split in a stratified fashion, using this as\n",
            "        the class labels.\n",
            "    \n",
            "    Returns\n",
            "    -------\n",
            "    splitting : list, length=2 * len(arrays)\n",
            "        List containing train-test split of inputs.\n",
            "    \n",
            "        .. versionadded:: 0.16\n",
            "            If the input is sparse, the output will be a\n",
            "            ``scipy.sparse.csr_matrix``. Else, output type is the same as the\n",
            "            input type.\n",
            "    \n",
            "    Examples\n",
            "    --------\n",
            "    >>> import numpy as np\n",
            "    >>> from sklearn.model_selection import train_test_split\n",
            "    >>> X, y = np.arange(10).reshape((5, 2)), range(5)\n",
            "    >>> X\n",
            "    array([[0, 1],\n",
            "           [2, 3],\n",
            "           [4, 5],\n",
            "           [6, 7],\n",
            "           [8, 9]])\n",
            "    >>> list(y)\n",
            "    [0, 1, 2, 3, 4]\n",
            "    \n",
            "    >>> X_train, X_test, y_train, y_test = train_test_split(\n",
            "    ...     X, y, test_size=0.33, random_state=42)\n",
            "    ...\n",
            "    >>> X_train\n",
            "    array([[4, 5],\n",
            "           [0, 1],\n",
            "           [6, 7]])\n",
            "    >>> y_train\n",
            "    [2, 0, 3]\n",
            "    >>> X_test\n",
            "    array([[2, 3],\n",
            "           [8, 9]])\n",
            "    >>> y_test\n",
            "    [1, 4]\n",
            "    \n",
            "    >>> train_test_split(y, shuffle=False)\n",
            "    [[0, 1, 2], [3, 4]]\n",
            "\n"
          ],
          "name": "stdout"
        }
      ]
    },
    {
      "cell_type": "markdown",
      "metadata": {
        "id": "Ou4MpDY-RVVA"
      },
      "source": [
        "10 Generating accuracy score, classification report, confusion matrix."
      ]
    },
    {
      "cell_type": "code",
      "metadata": {
        "id": "ss_R5_BrV1HJ"
      },
      "source": [
        "from sklearn.metrics import accuracy_score\n",
        "from sklearn.metrics import classification_report\n",
        "from sklearn.metrics import confusion_matrix\n",
        "import seaborn as sns\n",
        "\n",
        "def get_accuracy_metrics(y_test, y_hat):\n",
        "\n",
        "  #Generating accuracy score\n",
        "  print(\"\\nAccuracy attained : {}\\n\".format(accuracy_score(y_hat,y_test)))\n",
        "\n",
        "  #Getting the classification matrix\n",
        "  print(\"The classification report is :\\n\\n{}\".format(classification_report(y_test, y_hat)))\n",
        "\n",
        "  #Confusion matrix\n",
        "  # print(\"Confusion matrix generated\"confusion_matrix(y_test, y_hat))\n",
        "  print(\"\\n\")\n",
        "  sns.heatmap(confusion_matrix(y_test, y_hat),annot=True,fmt='g', square=True)\n",
        "\n",
        "def plot_accuracies(y_hat,model=''):\n",
        "  \n",
        "  x,accs=[],[]\n",
        "  max_x,max_acc = 0,0\n",
        "\n",
        "  for i in range(0,105,5):\n",
        "    x.append(i)\n",
        "    z=[]\n",
        "    for row in y_hat*100:\n",
        "      if max(row)>i:\n",
        "        z.append(np.argmax(row))\n",
        "      else :\n",
        "        z.append(np.argmin(row))\n",
        "    accs.append(accuracy_score(z,y_test))\n",
        "    if accuracy_score(z,y_test)>max_acc : \n",
        "      max_acc = accuracy_score(z,y_test)\n",
        "      max_x = i\n",
        "    else : \n",
        "      continue\n",
        "\n",
        "  plt.plot(x,accs)\n",
        "  plt.axvline(x=max_x,label='line at x = {}, value is {}'.format(max_x, max_acc), color='red')\n",
        "  plt.title(\"Accuracies of various thresholds of {}\".format(model))\n",
        "  plt.xlabel(\"Value of threshold\")\n",
        "  plt.ylabel(\"Accuracy\")\n",
        "  plt.legend()\n",
        "\n",
        "  return accs,x"
      ],
      "execution_count": null,
      "outputs": []
    },
    {
      "cell_type": "code",
      "metadata": {
        "colab": {
          "base_uri": "https://localhost:8080/",
          "height": 599
        },
        "id": "jn644sBBbuuh",
        "outputId": "520631f3-08d5-4695-c30f-9335b9dbccb6"
      },
      "source": [
        "from sklearn.linear_model import LogisticRegression\n",
        "\n",
        "#making logistic regression variable\n",
        "logit = LogisticRegression(random_state=0)\n",
        "\n",
        "#fitting the model\n",
        "logit.fit(X_train,y_train)\n",
        "\n",
        "print(logit.get_params()) #to get the parameters of the model\n",
        "# print(logit.coef_)\n",
        "\n",
        "#making predictions\n",
        "get_accuracy_metrics(y_test, logit.predict(X_test))"
      ],
      "execution_count": null,
      "outputs": [
        {
          "output_type": "stream",
          "text": [
            "{'C': 1.0, 'class_weight': None, 'dual': False, 'fit_intercept': True, 'intercept_scaling': 1, 'l1_ratio': None, 'max_iter': 100, 'multi_class': 'auto', 'n_jobs': None, 'penalty': 'l2', 'random_state': 0, 'solver': 'lbfgs', 'tol': 0.0001, 'verbose': 0, 'warm_start': False}\n",
            "\n",
            "Accuracy attained : 0.8059701492537313\n",
            "\n",
            "The classification report is :\n",
            "\n",
            "              precision    recall  f1-score   support\n",
            "\n",
            "           0       0.84      0.85      0.85       168\n",
            "           1       0.74      0.73      0.74       100\n",
            "\n",
            "    accuracy                           0.81       268\n",
            "   macro avg       0.79      0.79      0.79       268\n",
            "weighted avg       0.81      0.81      0.81       268\n",
            "\n",
            "\n",
            "\n"
          ],
          "name": "stdout"
        },
        {
          "output_type": "display_data",
          "data": {
            "image/png": "[encoded data removed]",
            "text/plain": [
              "<Figure size 432x288 with 2 Axes>"
            ]
          },
          "metadata": {
            "tags": [],
            "needs_background": "light"
          }
        }
      ]
    },
    {
      "cell_type": "code",
      "metadata": {
        "colab": {
          "base_uri": "https://localhost:8080/",
          "height": 295
        },
        "id": "Egw2dkNmanzJ",
        "outputId": "20820a74-5952-4a7a-e90f-ec38ee73e8a5"
      },
      "source": [
        "#getting probability predictions so as to apply threshold of the partition to get better classifier\n",
        "y_hat = logit.predict_proba(X_test)\n",
        "acscs_logit,x_logit = plot_accuracies(y_hat, 'Logistic Regression')"
      ],
      "execution_count": null,
      "outputs": [
        {
          "output_type": "display_data",
          "data": {
            "image/png": "[encoded data removed]",
            "text/plain": [
              "<Figure size 432x288 with 1 Axes>"
            ]
          },
          "metadata": {
            "tags": [],
            "needs_background": "light"
          }
        }
      ]
    },
    {
      "cell_type": "markdown",
      "metadata": {
        "id": "N155u6L-RpSH"
      },
      "source": [
        "11 Naive Bayes model for classification "
      ]
    },
    {
      "cell_type": "code",
      "metadata": {
        "colab": {
          "base_uri": "https://localhost:8080/"
        },
        "id": "xf9X79ItfzD4",
        "outputId": "a43ea105-5275-4057-ef4e-e5362d391f3c"
      },
      "source": [
        "from sklearn.naive_bayes import GaussianNB\n",
        "gnb = GaussianNB()\n",
        "gnb.fit(X_train, y_train)"
      ],
      "execution_count": null,
      "outputs": [
        {
          "output_type": "execute_result",
          "data": {
            "text/plain": [
              "GaussianNB(priors=None, var_smoothing=1e-09)"
            ]
          },
          "metadata": {
            "tags": []
          },
          "execution_count": 189
        }
      ]
    },
    {
      "cell_type": "code",
      "metadata": {
        "colab": {
          "base_uri": "https://localhost:8080/",
          "height": 561
        },
        "id": "Y4x9mqO-R8Ru",
        "outputId": "68caef91-6077-495d-ae8f-be2b02413f41"
      },
      "source": [
        "get_accuracy_metrics(y_test, gnb.predict(X_test))"
      ],
      "execution_count": null,
      "outputs": [
        {
          "output_type": "stream",
          "text": [
            "\n",
            "Accuracy attained : 0.7798507462686567\n",
            "\n",
            "The classification report is :\n",
            "\n",
            "              precision    recall  f1-score   support\n",
            "\n",
            "           0       0.84      0.80      0.82       168\n",
            "           1       0.69      0.75      0.72       100\n",
            "\n",
            "    accuracy                           0.78       268\n",
            "   macro avg       0.77      0.77      0.77       268\n",
            "weighted avg       0.79      0.78      0.78       268\n",
            "\n",
            "\n",
            "\n"
          ],
          "name": "stdout"
        },
        {
          "output_type": "display_data",
          "data": {
            "image/png": "[encoded data removed]",
            "text/plain": [
              "<Figure size 432x288 with 2 Axes>"
            ]
          },
          "metadata": {
            "tags": [],
            "needs_background": "light"
          }
        }
      ]
    },
    {
      "cell_type": "code",
      "metadata": {
        "colab": {
          "base_uri": "https://localhost:8080/",
          "height": 295
        },
        "id": "REVJiTdyj6E_",
        "outputId": "54cb4b44-63f6-4cae-9306-4edef40971f8"
      },
      "source": [
        "y_hat = gnb.predict_proba(X_test)\n",
        "acscs_nb, x_nb = plot_accuracies(y_hat,'Gaussian Naive Bayes')"
      ],
      "execution_count": null,
      "outputs": [
        {
          "output_type": "display_data",
          "data": {
            "image/png": "[encoded data removed]",
            "text/plain": [
              "<Figure size 432x288 with 1 Axes>"
            ]
          },
          "metadata": {
            "tags": [],
            "needs_background": "light"
          }
        }
      ]
    },
    {
      "cell_type": "markdown",
      "metadata": {
        "id": "-yWtz-IdmuL9"
      },
      "source": [
        "12 Comparision b/w models"
      ]
    },
    {
      "cell_type": "code",
      "metadata": {
        "id": "E4BJPPiCo_ds"
      },
      "source": [
        "def plotter(model_names, accs, x):\n",
        "  i=0\n",
        "  for acc in accs:\n",
        "    plt.plot(x, acc, label= model_names[i])\n",
        "    i+=1\n",
        "  plt.title(\"Comparision of the model predictions for various thresholds\",fontdict={'fontsize':15})\n",
        "  plt.xlabel(\"Value of threshold\",fontdict={'fontsize':8})\n",
        "  plt.ylabel(\"Accuracy\",fontdict={'fontsize':8})\n",
        "  plt.legend()"
      ],
      "execution_count": null,
      "outputs": []
    },
    {
      "cell_type": "code",
      "metadata": {
        "colab": {
          "base_uri": "https://localhost:8080/",
          "height": 296
        },
        "id": "59DRFYSZf6Qw",
        "outputId": "3abb2f4c-fc03-41be-a07a-80c43621a45d"
      },
      "source": [
        "model_names = ['LogisticRegression', 'NaiveBayes']\n",
        "accs = [acscs_logit ,acscs_nb]\n",
        "\n",
        "plotter(model_names,accs, x)"
      ],
      "execution_count": null,
      "outputs": [
        {
          "output_type": "display_data",
          "data": {
            "image/png": "[encoded data removed]",
            "text/plain": [
              "<Figure size 432x288 with 1 Axes>"
            ]
          },
          "metadata": {
            "tags": [],
            "needs_background": "light"
          }
        }
      ]
    },
    {
      "cell_type": "markdown",
      "metadata": {
        "id": "09yHrtGPmc07"
      },
      "source": [
        "13 Pickle dump for saving the model"
      ]
    },
    {
      "cell_type": "code",
      "metadata": {
        "id": "5lvCTmmpdTKO"
      },
      "source": [
        "#Saving the model using pickle\n",
        "filename = 'lr.sav'\n",
        "pickle.dump(logit, open(filename, 'wb'))"
      ],
      "execution_count": null,
      "outputs": []
    },
    {
      "cell_type": "markdown",
      "metadata": {
        "id": "fLR2RwcWwBN_"
      },
      "source": [
        "![image.png](data:image/png;base64,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)\n",
        "\n",
        "The saved model is shown in the files section"
      ]
    },
    {
      "cell_type": "code",
      "metadata": {
        "colab": {
          "base_uri": "https://localhost:8080/",
          "height": 561
        },
        "id": "WoVIID-leYPS",
        "outputId": "2a89bb38-571a-438a-8b93-453f0dc0bc31"
      },
      "source": [
        "# Sanity check after oading the model back from pickle\n",
        "logit = pickle.load(open(filename, 'rb'))\n",
        "get_accuracy_metrics(y_test, logit.predict(X_test))"
      ],
      "execution_count": null,
      "outputs": [
        {
          "output_type": "stream",
          "text": [
            "\n",
            "Accuracy attained : 0.8059701492537313\n",
            "\n",
            "The classification report is :\n",
            "\n",
            "              precision    recall  f1-score   support\n",
            "\n",
            "           0       0.84      0.85      0.85       168\n",
            "           1       0.74      0.73      0.74       100\n",
            "\n",
            "    accuracy                           0.81       268\n",
            "   macro avg       0.79      0.79      0.79       268\n",
            "weighted avg       0.81      0.81      0.81       268\n",
            "\n",
            "\n",
            "\n"
          ],
          "name": "stdout"
        },
        {
          "output_type": "display_data",
          "data": {
            "image/png": "[encoded data removed]",
            "text/plain": [
              "<Figure size 432x288 with 2 Axes>"
            ]
          },
          "metadata": {
            "tags": [],
            "needs_background": "light"
          }
        }
      ]
    },
    {
      "cell_type": "markdown",
      "metadata": {
        "id": "KyxF-7Ve3-_p"
      },
      "source": [
        "PCA"
      ]
    },
    {
      "cell_type": "code",
      "metadata": {
        "id": "CM0c0zrA0ePd"
      },
      "source": [
        "from sklearn.preprocessing import StandardScaler\n",
        "X = StandardScaler().fit_transform(X)\n",
        "from sklearn.decomposition import PCA\n",
        "pca = PCA(n_components=2)\n",
        "principalComponents = pca.fit_transform(X)"
      ],
      "execution_count": null,
      "outputs": []
    },
    {
      "cell_type": "code",
      "metadata": {
        "id": "trk8lurQ1dlX"
      },
      "source": [
        "principalDf = pd.DataFrame(data = principalComponents\n",
        "             , columns = ['principal component 1', 'principal component 2'])"
      ],
      "execution_count": null,
      "outputs": []
    },
    {
      "cell_type": "code",
      "metadata": {
        "id": "9SPpb_Ob1h8w"
      },
      "source": [
        "finalDf = pd.concat([principalDf, df[['Survived']]], axis = 1)"
      ],
      "execution_count": null,
      "outputs": []
    },
    {
      "cell_type": "code",
      "metadata": {
        "colab": {
          "base_uri": "https://localhost:8080/",
          "height": 516
        },
        "id": "tSaMs7qC2Shl",
        "outputId": "e32b2973-7655-4362-d737-2369b3225fe8"
      },
      "source": [
        "sns.jointplot(finalDf['principal component 1'], finalDf['principal component 2'], hue=finalDf['Survived'])"
      ],
      "execution_count": null,
      "outputs": [
        {
          "output_type": "stream",
          "text": [
            "/usr/local/lib/python3.7/dist-packages/seaborn/_decorators.py:43: FutureWarning: Pass the following variables as keyword args: x, y. From version 0.12, the only valid positional argument will be `data`, and passing other arguments without an explicit keyword will result in an error or misinterpretation.\n",
            "  FutureWarning\n"
          ],
          "name": "stderr"
        },
        {
          "output_type": "execute_result",
          "data": {
            "text/plain": [
              "<seaborn.axisgrid.JointGrid at 0x7f06defa7450>"
            ]
          },
          "metadata": {
            "tags": []
          },
          "execution_count": 231
        },
        {
          "output_type": "display_data",
          "data": {
            "image/png": "[encoded data removed]",
            "text/plain": [
              "<Figure size 432x432 with 3 Axes>"
            ]
          },
          "metadata": {
            "tags": [],
            "needs_background": "light"
          }
        }
      ]
    }
  ]
}