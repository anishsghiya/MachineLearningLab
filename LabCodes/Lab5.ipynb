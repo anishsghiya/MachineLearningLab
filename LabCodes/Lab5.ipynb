{
 "cells": [
  {
   "cell_type": "code",
   "execution_count": 1,
   "id": "continuing-batch",
   "metadata": {
    "_cell_guid": "b1076dfc-b9ad-4769-8c92-a6c4dae69d19",
    "_uuid": "8f2839f25d086af736a60e9eeb907d3b93b6e0e5",
    "execution": {
     "iopub.execute_input": "2021-11-02T12:28:30.174500Z",
     "iopub.status.busy": "2021-11-02T12:28:30.173851Z",
     "iopub.status.idle": "2021-11-02T12:28:30.187654Z",
     "shell.execute_reply": "2021-11-02T12:28:30.188150Z"
    },
    "papermill": {
     "duration": 0.036837,
     "end_time": "2021-11-02T12:28:30.188464",
     "exception": false,
     "start_time": "2021-11-02T12:28:30.151627",
     "status": "completed"
    },
    "tags": []
   },
   "outputs": [
    {
     "name": "stdout",
     "output_type": "stream",
     "text": [
      "../input/imdb-dataset-of-50k-movie-reviews/IMDB Dataset.csv\n"
     ]
    }
   ],
   "source": [
    "import numpy as np\n",
    "import pandas as pd\n",
    "\n",
    "import os\n",
    "for dirname, _, filenames in os.walk('../input'):\n",
    "    for filename in filenames:\n",
    "        print(os.path.join(dirname, filename))"
   ]
  },
  {
   "cell_type": "code",
   "execution_count": 2,
   "id": "domestic-combat",
   "metadata": {
    "execution": {
     "iopub.execute_input": "2021-11-02T12:28:30.223985Z",
     "iopub.status.busy": "2021-11-02T12:28:30.223284Z",
     "iopub.status.idle": "2021-11-02T12:28:31.941410Z",
     "shell.execute_reply": "2021-11-02T12:28:31.940699Z"
    },
    "papermill": {
     "duration": 1.737983,
     "end_time": "2021-11-02T12:28:31.941555",
     "exception": false,
     "start_time": "2021-11-02T12:28:30.203572",
     "status": "completed"
    },
    "tags": []
   },
   "outputs": [],
   "source": [
    "train = pd.read_csv('../input/imdb-dataset-of-50k-movie-reviews/IMDB Dataset.csv')"
   ]
  },
  {
   "cell_type": "code",
   "execution_count": 3,
   "id": "aerial-claim",
   "metadata": {
    "execution": {
     "iopub.execute_input": "2021-11-02T12:28:31.988185Z",
     "iopub.status.busy": "2021-11-02T12:28:31.987268Z",
     "iopub.status.idle": "2021-11-02T12:28:31.992732Z",
     "shell.execute_reply": "2021-11-02T12:28:31.993316Z"
    },
    "papermill": {
     "duration": 0.037206,
     "end_time": "2021-11-02T12:28:31.993523",
     "exception": false,
     "start_time": "2021-11-02T12:28:31.956317",
     "status": "completed"
    },
    "tags": []
   },
   "outputs": [
    {
     "data": {
      "text/plain": [
       "\"One of the other reviewers has mentioned that after watching just 1 Oz episode you'll be hooked. They are right, as this is exactly what happened with me.<br /><br />The first thing that struck me about Oz was its brutality and unflinching scenes of violence, which set in right from the word GO. Trust me, this is not a show for the faint hearted or timid. This show pulls no punches with regards to drugs, sex or violence. Its is hardcore, in the classic use of the word.<br /><br />It is called OZ as that is the nickname given to the Oswald Maximum Security State Penitentary. It focuses mainly on Emerald City, an experimental section of the prison where all the cells have glass fronts and face inwards, so privacy is not high on the agenda. Em City is home to many..Aryans, Muslims, gangstas, Latinos, Christians, Italians, Irish and more....so scuffles, death stares, dodgy dealings and shady agreements are never far away.<br /><br />I would say the main appeal of the show is due to the fact that it goes where other shows wouldn't dare. Forget pretty pictures painted for mainstream audiences, forget charm, forget romance...OZ doesn't mess around. The first episode I ever saw struck me as so nasty it was surreal, I couldn't say I was ready for it, but as I watched more, I developed a taste for Oz, and got accustomed to the high levels of graphic violence. Not just violence, but injustice (crooked guards who'll be sold out for a nickel, inmates who'll kill on order and get away with it, well mannered, middle class inmates being turned into prison bitches due to their lack of street skills or prison experience) Watching Oz, you may become comfortable with what is uncomfortable viewing....thats if you can get in touch with your darker side.\""
      ]
     },
     "execution_count": 3,
     "metadata": {},
     "output_type": "execute_result"
    }
   ],
   "source": [
    "train['review'][0]"
   ]
  },
  {
   "cell_type": "markdown",
   "id": "blond-knitting",
   "metadata": {
    "papermill": {
     "duration": 0.01534,
     "end_time": "2021-11-02T12:28:32.024593",
     "exception": false,
     "start_time": "2021-11-02T12:28:32.009253",
     "status": "completed"
    },
    "tags": []
   },
   "source": [
    "### 2. Data Preperation "
   ]
  },
  {
   "cell_type": "code",
   "execution_count": 4,
   "id": "soviet-damage",
   "metadata": {
    "execution": {
     "iopub.execute_input": "2021-11-02T12:28:32.061431Z",
     "iopub.status.busy": "2021-11-02T12:28:32.060458Z",
     "iopub.status.idle": "2021-11-02T12:28:32.063788Z",
     "shell.execute_reply": "2021-11-02T12:28:32.063245Z"
    },
    "papermill": {
     "duration": 0.023953,
     "end_time": "2021-11-02T12:28:32.064024",
     "exception": false,
     "start_time": "2021-11-02T12:28:32.040071",
     "status": "completed"
    },
    "tags": []
   },
   "outputs": [],
   "source": [
    "def remove_html(text):\n",
    "    html=re.compile(r'<.*?>')\n",
    "    return html.sub(r'',text)\n",
    "\n"
   ]
  },
  {
   "cell_type": "markdown",
   "id": "stunning-implement",
   "metadata": {
    "papermill": {
     "duration": 0.015477,
     "end_time": "2021-11-02T12:28:32.095666",
     "exception": false,
     "start_time": "2021-11-02T12:28:32.080189",
     "status": "completed"
    },
    "tags": []
   },
   "source": [
    "### 3. Stemming"
   ]
  },
  {
   "cell_type": "code",
   "execution_count": 5,
   "id": "induced-minister",
   "metadata": {
    "execution": {
     "iopub.execute_input": "2021-11-02T12:28:32.134663Z",
     "iopub.status.busy": "2021-11-02T12:28:32.133929Z",
     "iopub.status.idle": "2021-11-02T12:28:34.005049Z",
     "shell.execute_reply": "2021-11-02T12:28:34.004383Z"
    },
    "papermill": {
     "duration": 1.893879,
     "end_time": "2021-11-02T12:28:34.005289",
     "exception": false,
     "start_time": "2021-11-02T12:28:32.111410",
     "status": "completed"
    },
    "tags": []
   },
   "outputs": [],
   "source": [
    "from nltk.stem.porter import PorterStemmer\n",
    "porter = PorterStemmer()\n",
    "\n",
    "def stemmer(text):\n",
    "    return [porter.stem(word) for word in text.split()]"
   ]
  },
  {
   "cell_type": "code",
   "execution_count": 6,
   "id": "confused-hardware",
   "metadata": {
    "execution": {
     "iopub.execute_input": "2021-11-02T12:28:34.043164Z",
     "iopub.status.busy": "2021-11-02T12:28:34.042209Z",
     "iopub.status.idle": "2021-11-02T12:28:34.070734Z",
     "shell.execute_reply": "2021-11-02T12:28:34.070191Z"
    },
    "papermill": {
     "duration": 0.049531,
     "end_time": "2021-11-02T12:28:34.070901",
     "exception": false,
     "start_time": "2021-11-02T12:28:34.021370",
     "status": "completed"
    },
    "tags": []
   },
   "outputs": [
    {
     "data": {
      "text/plain": [
       "['one',\n",
       " 'of',\n",
       " 'the',\n",
       " 'other',\n",
       " 'review',\n",
       " 'ha',\n",
       " 'mention',\n",
       " 'that',\n",
       " 'after',\n",
       " 'watch',\n",
       " 'just',\n",
       " '1',\n",
       " 'Oz',\n",
       " 'episod',\n",
       " \"you'll\",\n",
       " 'be',\n",
       " 'hooked.',\n",
       " 'they',\n",
       " 'are',\n",
       " 'right,',\n",
       " 'as',\n",
       " 'thi',\n",
       " 'is',\n",
       " 'exactli',\n",
       " 'what',\n",
       " 'happen',\n",
       " 'with',\n",
       " 'me.<br',\n",
       " '/><br',\n",
       " '/>the',\n",
       " 'first',\n",
       " 'thing',\n",
       " 'that',\n",
       " 'struck',\n",
       " 'me',\n",
       " 'about',\n",
       " 'Oz',\n",
       " 'wa',\n",
       " 'it',\n",
       " 'brutal',\n",
       " 'and',\n",
       " 'unflinch',\n",
       " 'scene',\n",
       " 'of',\n",
       " 'violence,',\n",
       " 'which',\n",
       " 'set',\n",
       " 'in',\n",
       " 'right',\n",
       " 'from',\n",
       " 'the',\n",
       " 'word',\n",
       " 'go.',\n",
       " 'trust',\n",
       " 'me,',\n",
       " 'thi',\n",
       " 'is',\n",
       " 'not',\n",
       " 'a',\n",
       " 'show',\n",
       " 'for',\n",
       " 'the',\n",
       " 'faint',\n",
       " 'heart',\n",
       " 'or',\n",
       " 'timid.',\n",
       " 'thi',\n",
       " 'show',\n",
       " 'pull',\n",
       " 'no',\n",
       " 'punch',\n",
       " 'with',\n",
       " 'regard',\n",
       " 'to',\n",
       " 'drugs,',\n",
       " 'sex',\n",
       " 'or',\n",
       " 'violence.',\n",
       " 'it',\n",
       " 'is',\n",
       " 'hardcore,',\n",
       " 'in',\n",
       " 'the',\n",
       " 'classic',\n",
       " 'use',\n",
       " 'of',\n",
       " 'the',\n",
       " 'word.<br',\n",
       " '/><br',\n",
       " '/>it',\n",
       " 'is',\n",
       " 'call',\n",
       " 'OZ',\n",
       " 'as',\n",
       " 'that',\n",
       " 'is',\n",
       " 'the',\n",
       " 'nicknam',\n",
       " 'given',\n",
       " 'to',\n",
       " 'the',\n",
       " 'oswald',\n",
       " 'maximum',\n",
       " 'secur',\n",
       " 'state',\n",
       " 'penitentary.',\n",
       " 'It',\n",
       " 'focus',\n",
       " 'mainli',\n",
       " 'on',\n",
       " 'emerald',\n",
       " 'city,',\n",
       " 'an',\n",
       " 'experiment',\n",
       " 'section',\n",
       " 'of',\n",
       " 'the',\n",
       " 'prison',\n",
       " 'where',\n",
       " 'all',\n",
       " 'the',\n",
       " 'cell',\n",
       " 'have',\n",
       " 'glass',\n",
       " 'front',\n",
       " 'and',\n",
       " 'face',\n",
       " 'inwards,',\n",
       " 'so',\n",
       " 'privaci',\n",
       " 'is',\n",
       " 'not',\n",
       " 'high',\n",
       " 'on',\n",
       " 'the',\n",
       " 'agenda.',\n",
       " 'Em',\n",
       " 'citi',\n",
       " 'is',\n",
       " 'home',\n",
       " 'to',\n",
       " 'many..aryans,',\n",
       " 'muslims,',\n",
       " 'gangstas,',\n",
       " 'latinos,',\n",
       " 'christians,',\n",
       " 'italians,',\n",
       " 'irish',\n",
       " 'and',\n",
       " 'more....so',\n",
       " 'scuffles,',\n",
       " 'death',\n",
       " 'stares,',\n",
       " 'dodgi',\n",
       " 'deal',\n",
       " 'and',\n",
       " 'shadi',\n",
       " 'agreement',\n",
       " 'are',\n",
       " 'never',\n",
       " 'far',\n",
       " 'away.<br',\n",
       " '/><br',\n",
       " '/>i',\n",
       " 'would',\n",
       " 'say',\n",
       " 'the',\n",
       " 'main',\n",
       " 'appeal',\n",
       " 'of',\n",
       " 'the',\n",
       " 'show',\n",
       " 'is',\n",
       " 'due',\n",
       " 'to',\n",
       " 'the',\n",
       " 'fact',\n",
       " 'that',\n",
       " 'it',\n",
       " 'goe',\n",
       " 'where',\n",
       " 'other',\n",
       " 'show',\n",
       " \"wouldn't\",\n",
       " 'dare.',\n",
       " 'forget',\n",
       " 'pretti',\n",
       " 'pictur',\n",
       " 'paint',\n",
       " 'for',\n",
       " 'mainstream',\n",
       " 'audiences,',\n",
       " 'forget',\n",
       " 'charm,',\n",
       " 'forget',\n",
       " 'romance...oz',\n",
       " \"doesn't\",\n",
       " 'mess',\n",
       " 'around.',\n",
       " 'the',\n",
       " 'first',\n",
       " 'episod',\n",
       " 'I',\n",
       " 'ever',\n",
       " 'saw',\n",
       " 'struck',\n",
       " 'me',\n",
       " 'as',\n",
       " 'so',\n",
       " 'nasti',\n",
       " 'it',\n",
       " 'wa',\n",
       " 'surreal,',\n",
       " 'I',\n",
       " \"couldn't\",\n",
       " 'say',\n",
       " 'I',\n",
       " 'wa',\n",
       " 'readi',\n",
       " 'for',\n",
       " 'it,',\n",
       " 'but',\n",
       " 'as',\n",
       " 'I',\n",
       " 'watch',\n",
       " 'more,',\n",
       " 'I',\n",
       " 'develop',\n",
       " 'a',\n",
       " 'tast',\n",
       " 'for',\n",
       " 'oz,',\n",
       " 'and',\n",
       " 'got',\n",
       " 'accustom',\n",
       " 'to',\n",
       " 'the',\n",
       " 'high',\n",
       " 'level',\n",
       " 'of',\n",
       " 'graphic',\n",
       " 'violence.',\n",
       " 'not',\n",
       " 'just',\n",
       " 'violence,',\n",
       " 'but',\n",
       " 'injustic',\n",
       " '(crook',\n",
       " 'guard',\n",
       " \"who'll\",\n",
       " 'be',\n",
       " 'sold',\n",
       " 'out',\n",
       " 'for',\n",
       " 'a',\n",
       " 'nickel,',\n",
       " 'inmat',\n",
       " \"who'll\",\n",
       " 'kill',\n",
       " 'on',\n",
       " 'order',\n",
       " 'and',\n",
       " 'get',\n",
       " 'away',\n",
       " 'with',\n",
       " 'it,',\n",
       " 'well',\n",
       " 'mannered,',\n",
       " 'middl',\n",
       " 'class',\n",
       " 'inmat',\n",
       " 'be',\n",
       " 'turn',\n",
       " 'into',\n",
       " 'prison',\n",
       " 'bitch',\n",
       " 'due',\n",
       " 'to',\n",
       " 'their',\n",
       " 'lack',\n",
       " 'of',\n",
       " 'street',\n",
       " 'skill',\n",
       " 'or',\n",
       " 'prison',\n",
       " 'experience)',\n",
       " 'watch',\n",
       " 'oz,',\n",
       " 'you',\n",
       " 'may',\n",
       " 'becom',\n",
       " 'comfort',\n",
       " 'with',\n",
       " 'what',\n",
       " 'is',\n",
       " 'uncomfort',\n",
       " 'viewing....that',\n",
       " 'if',\n",
       " 'you',\n",
       " 'can',\n",
       " 'get',\n",
       " 'in',\n",
       " 'touch',\n",
       " 'with',\n",
       " 'your',\n",
       " 'darker',\n",
       " 'side.']"
      ]
     },
     "execution_count": 6,
     "metadata": {},
     "output_type": "execute_result"
    }
   ],
   "source": [
    "stemmer(train['review'][0])"
   ]
  },
  {
   "cell_type": "markdown",
   "id": "imperial-brighton",
   "metadata": {
    "papermill": {
     "duration": 0.017627,
     "end_time": "2021-11-02T12:28:34.105671",
     "exception": false,
     "start_time": "2021-11-02T12:28:34.088044",
     "status": "completed"
    },
    "tags": []
   },
   "source": [
    "### 4. Vectorizing of document"
   ]
  },
  {
   "cell_type": "code",
   "execution_count": 7,
   "id": "timely-production",
   "metadata": {
    "execution": {
     "iopub.execute_input": "2021-11-02T12:28:34.145523Z",
     "iopub.status.busy": "2021-11-02T12:28:34.144575Z",
     "iopub.status.idle": "2021-11-02T12:28:34.148254Z",
     "shell.execute_reply": "2021-11-02T12:28:34.147563Z"
    },
    "papermill": {
     "duration": 0.026042,
     "end_time": "2021-11-02T12:28:34.148410",
     "exception": false,
     "start_time": "2021-11-02T12:28:34.122368",
     "status": "completed"
    },
    "tags": []
   },
   "outputs": [],
   "source": [
    "from sklearn.feature_extraction.text import TfidfVectorizer\n",
    "tfidf = TfidfVectorizer(strip_accents = None, lowercase = False, tokenizer = stemmer, use_idf = True, norm ='l2',smooth_idf = True )"
   ]
  },
  {
   "cell_type": "code",
   "execution_count": 8,
   "id": "pediatric-means",
   "metadata": {
    "execution": {
     "iopub.execute_input": "2021-11-02T12:28:34.192587Z",
     "iopub.status.busy": "2021-11-02T12:28:34.191637Z",
     "iopub.status.idle": "2021-11-02T12:33:32.696818Z",
     "shell.execute_reply": "2021-11-02T12:33:32.696152Z"
    },
    "papermill": {
     "duration": 298.53208,
     "end_time": "2021-11-02T12:33:32.697014",
     "exception": false,
     "start_time": "2021-11-02T12:28:34.164934",
     "status": "completed"
    },
    "tags": []
   },
   "outputs": [],
   "source": [
    "Y = train.sentiment.values\n",
    "X = tfidf.fit_transform(train.review)"
   ]
  },
  {
   "cell_type": "markdown",
   "id": "ultimate-council",
   "metadata": {
    "papermill": {
     "duration": 0.01604,
     "end_time": "2021-11-02T12:33:32.730148",
     "exception": false,
     "start_time": "2021-11-02T12:33:32.714108",
     "status": "completed"
    },
    "tags": []
   },
   "source": [
    "### 5. Classification using Logistic Regression"
   ]
  },
  {
   "cell_type": "code",
   "execution_count": 9,
   "id": "indonesian-statement",
   "metadata": {
    "execution": {
     "iopub.execute_input": "2021-11-02T12:33:32.769583Z",
     "iopub.status.busy": "2021-11-02T12:33:32.768899Z",
     "iopub.status.idle": "2021-11-02T12:33:32.811635Z",
     "shell.execute_reply": "2021-11-02T12:33:32.811106Z"
    },
    "papermill": {
     "duration": 0.065228,
     "end_time": "2021-11-02T12:33:32.811789",
     "exception": false,
     "start_time": "2021-11-02T12:33:32.746561",
     "status": "completed"
    },
    "tags": []
   },
   "outputs": [],
   "source": [
    "from sklearn.model_selection import train_test_split\n",
    "\n",
    "X_train, X_test, y_train, y_test = train_test_split(X, Y, random_state=0, test_size=0.5, shuffle=False)"
   ]
  },
  {
   "cell_type": "code",
   "execution_count": 10,
   "id": "advisory-accommodation",
   "metadata": {
    "execution": {
     "iopub.execute_input": "2021-11-02T12:33:32.851132Z",
     "iopub.status.busy": "2021-11-02T12:33:32.850459Z",
     "iopub.status.idle": "2021-11-02T12:40:00.200707Z",
     "shell.execute_reply": "2021-11-02T12:40:00.201545Z"
    },
    "papermill": {
     "duration": 387.373637,
     "end_time": "2021-11-02T12:40:00.201886",
     "exception": false,
     "start_time": "2021-11-02T12:33:32.828249",
     "status": "completed"
    },
    "tags": []
   },
   "outputs": [
    {
     "name": "stderr",
     "output_type": "stream",
     "text": [
      "/opt/conda/lib/python3.7/site-packages/sklearn/linear_model/_logistic.py:765: ConvergenceWarning: lbfgs failed to converge (status=1):\n",
      "STOP: TOTAL NO. of ITERATIONS REACHED LIMIT.\n",
      "\n",
      "Increase the number of iterations (max_iter) or scale the data as shown in:\n",
      "    https://scikit-learn.org/stable/modules/preprocessing.html\n",
      "Please also refer to the documentation for alternative solver options:\n",
      "    https://scikit-learn.org/stable/modules/linear_model.html#logistic-regression\n",
      "  extra_warning_msg=_LOGISTIC_SOLVER_CONVERGENCE_MSG)\n",
      "/opt/conda/lib/python3.7/site-packages/sklearn/linear_model/_logistic.py:765: ConvergenceWarning: lbfgs failed to converge (status=1):\n",
      "STOP: TOTAL NO. of ITERATIONS REACHED LIMIT.\n",
      "\n",
      "Increase the number of iterations (max_iter) or scale the data as shown in:\n",
      "    https://scikit-learn.org/stable/modules/preprocessing.html\n",
      "Please also refer to the documentation for alternative solver options:\n",
      "    https://scikit-learn.org/stable/modules/linear_model.html#logistic-regression\n",
      "  extra_warning_msg=_LOGISTIC_SOLVER_CONVERGENCE_MSG)\n",
      "/opt/conda/lib/python3.7/site-packages/sklearn/linear_model/_logistic.py:765: ConvergenceWarning: lbfgs failed to converge (status=1):\n",
      "STOP: TOTAL NO. of ITERATIONS REACHED LIMIT.\n",
      "\n",
      "Increase the number of iterations (max_iter) or scale the data as shown in:\n",
      "    https://scikit-learn.org/stable/modules/preprocessing.html\n",
      "Please also refer to the documentation for alternative solver options:\n",
      "    https://scikit-learn.org/stable/modules/linear_model.html#logistic-regression\n",
      "  extra_warning_msg=_LOGISTIC_SOLVER_CONVERGENCE_MSG)\n",
      "/opt/conda/lib/python3.7/site-packages/sklearn/linear_model/_logistic.py:765: ConvergenceWarning: lbfgs failed to converge (status=1):\n",
      "STOP: TOTAL NO. of ITERATIONS REACHED LIMIT.\n",
      "\n",
      "Increase the number of iterations (max_iter) or scale the data as shown in:\n",
      "    https://scikit-learn.org/stable/modules/preprocessing.html\n",
      "Please also refer to the documentation for alternative solver options:\n",
      "    https://scikit-learn.org/stable/modules/linear_model.html#logistic-regression\n",
      "  extra_warning_msg=_LOGISTIC_SOLVER_CONVERGENCE_MSG)\n",
      "/opt/conda/lib/python3.7/site-packages/sklearn/linear_model/_logistic.py:765: ConvergenceWarning: lbfgs failed to converge (status=1):\n",
      "STOP: TOTAL NO. of ITERATIONS REACHED LIMIT.\n",
      "\n",
      "Increase the number of iterations (max_iter) or scale the data as shown in:\n",
      "    https://scikit-learn.org/stable/modules/preprocessing.html\n",
      "Please also refer to the documentation for alternative solver options:\n",
      "    https://scikit-learn.org/stable/modules/linear_model.html#logistic-regression\n",
      "  extra_warning_msg=_LOGISTIC_SOLVER_CONVERGENCE_MSG)\n",
      "/opt/conda/lib/python3.7/site-packages/sklearn/linear_model/_logistic.py:765: ConvergenceWarning: lbfgs failed to converge (status=1):\n",
      "STOP: TOTAL NO. of ITERATIONS REACHED LIMIT.\n",
      "\n",
      "Increase the number of iterations (max_iter) or scale the data as shown in:\n",
      "    https://scikit-learn.org/stable/modules/preprocessing.html\n",
      "Please also refer to the documentation for alternative solver options:\n",
      "    https://scikit-learn.org/stable/modules/linear_model.html#logistic-regression\n",
      "  extra_warning_msg=_LOGISTIC_SOLVER_CONVERGENCE_MSG)\n",
      "/opt/conda/lib/python3.7/site-packages/sklearn/linear_model/_logistic.py:765: ConvergenceWarning: lbfgs failed to converge (status=1):\n",
      "STOP: TOTAL NO. of ITERATIONS REACHED LIMIT.\n",
      "\n",
      "Increase the number of iterations (max_iter) or scale the data as shown in:\n",
      "    https://scikit-learn.org/stable/modules/preprocessing.html\n",
      "Please also refer to the documentation for alternative solver options:\n",
      "    https://scikit-learn.org/stable/modules/linear_model.html#logistic-regression\n",
      "  extra_warning_msg=_LOGISTIC_SOLVER_CONVERGENCE_MSG)\n",
      "/opt/conda/lib/python3.7/site-packages/sklearn/linear_model/_logistic.py:765: ConvergenceWarning: lbfgs failed to converge (status=1):\n",
      "STOP: TOTAL NO. of ITERATIONS REACHED LIMIT.\n",
      "\n",
      "Increase the number of iterations (max_iter) or scale the data as shown in:\n",
      "    https://scikit-learn.org/stable/modules/preprocessing.html\n",
      "Please also refer to the documentation for alternative solver options:\n",
      "    https://scikit-learn.org/stable/modules/linear_model.html#logistic-regression\n",
      "  extra_warning_msg=_LOGISTIC_SOLVER_CONVERGENCE_MSG)\n",
      "/opt/conda/lib/python3.7/site-packages/sklearn/linear_model/_logistic.py:765: ConvergenceWarning: lbfgs failed to converge (status=1):\n",
      "STOP: TOTAL NO. of ITERATIONS REACHED LIMIT.\n",
      "\n",
      "Increase the number of iterations (max_iter) or scale the data as shown in:\n",
      "    https://scikit-learn.org/stable/modules/preprocessing.html\n",
      "Please also refer to the documentation for alternative solver options:\n",
      "    https://scikit-learn.org/stable/modules/linear_model.html#logistic-regression\n",
      "  extra_warning_msg=_LOGISTIC_SOLVER_CONVERGENCE_MSG)\n",
      "/opt/conda/lib/python3.7/site-packages/sklearn/linear_model/_logistic.py:765: ConvergenceWarning: lbfgs failed to converge (status=1):\n",
      "STOP: TOTAL NO. of ITERATIONS REACHED LIMIT.\n",
      "\n",
      "Increase the number of iterations (max_iter) or scale the data as shown in:\n",
      "    https://scikit-learn.org/stable/modules/preprocessing.html\n",
      "Please also refer to the documentation for alternative solver options:\n",
      "    https://scikit-learn.org/stable/modules/linear_model.html#logistic-regression\n",
      "  extra_warning_msg=_LOGISTIC_SOLVER_CONVERGENCE_MSG)\n",
      "/opt/conda/lib/python3.7/site-packages/sklearn/linear_model/_logistic.py:765: ConvergenceWarning: lbfgs failed to converge (status=1):\n",
      "STOP: TOTAL NO. of ITERATIONS REACHED LIMIT.\n",
      "\n",
      "Increase the number of iterations (max_iter) or scale the data as shown in:\n",
      "    https://scikit-learn.org/stable/modules/preprocessing.html\n",
      "Please also refer to the documentation for alternative solver options:\n",
      "    https://scikit-learn.org/stable/modules/linear_model.html#logistic-regression\n",
      "  extra_warning_msg=_LOGISTIC_SOLVER_CONVERGENCE_MSG)\n",
      "/opt/conda/lib/python3.7/site-packages/sklearn/linear_model/_logistic.py:765: ConvergenceWarning: lbfgs failed to converge (status=1):\n",
      "STOP: TOTAL NO. of ITERATIONS REACHED LIMIT.\n",
      "\n",
      "Increase the number of iterations (max_iter) or scale the data as shown in:\n",
      "    https://scikit-learn.org/stable/modules/preprocessing.html\n",
      "Please also refer to the documentation for alternative solver options:\n",
      "    https://scikit-learn.org/stable/modules/linear_model.html#logistic-regression\n",
      "  extra_warning_msg=_LOGISTIC_SOLVER_CONVERGENCE_MSG)\n",
      "/opt/conda/lib/python3.7/site-packages/sklearn/linear_model/_logistic.py:765: ConvergenceWarning: lbfgs failed to converge (status=1):\n",
      "STOP: TOTAL NO. of ITERATIONS REACHED LIMIT.\n",
      "\n",
      "Increase the number of iterations (max_iter) or scale the data as shown in:\n",
      "    https://scikit-learn.org/stable/modules/preprocessing.html\n",
      "Please also refer to the documentation for alternative solver options:\n",
      "    https://scikit-learn.org/stable/modules/linear_model.html#logistic-regression\n",
      "  extra_warning_msg=_LOGISTIC_SOLVER_CONVERGENCE_MSG)\n",
      "/opt/conda/lib/python3.7/site-packages/sklearn/linear_model/_logistic.py:765: ConvergenceWarning: lbfgs failed to converge (status=1):\n",
      "STOP: TOTAL NO. of ITERATIONS REACHED LIMIT.\n",
      "\n",
      "Increase the number of iterations (max_iter) or scale the data as shown in:\n",
      "    https://scikit-learn.org/stable/modules/preprocessing.html\n",
      "Please also refer to the documentation for alternative solver options:\n",
      "    https://scikit-learn.org/stable/modules/linear_model.html#logistic-regression\n",
      "  extra_warning_msg=_LOGISTIC_SOLVER_CONVERGENCE_MSG)\n",
      "/opt/conda/lib/python3.7/site-packages/sklearn/linear_model/_logistic.py:765: ConvergenceWarning: lbfgs failed to converge (status=1):\n",
      "STOP: TOTAL NO. of ITERATIONS REACHED LIMIT.\n",
      "\n",
      "Increase the number of iterations (max_iter) or scale the data as shown in:\n",
      "    https://scikit-learn.org/stable/modules/preprocessing.html\n",
      "Please also refer to the documentation for alternative solver options:\n",
      "    https://scikit-learn.org/stable/modules/linear_model.html#logistic-regression\n",
      "  extra_warning_msg=_LOGISTIC_SOLVER_CONVERGENCE_MSG)\n",
      "/opt/conda/lib/python3.7/site-packages/sklearn/linear_model/_logistic.py:765: ConvergenceWarning: lbfgs failed to converge (status=1):\n",
      "STOP: TOTAL NO. of ITERATIONS REACHED LIMIT.\n",
      "\n",
      "Increase the number of iterations (max_iter) or scale the data as shown in:\n",
      "    https://scikit-learn.org/stable/modules/preprocessing.html\n",
      "Please also refer to the documentation for alternative solver options:\n",
      "    https://scikit-learn.org/stable/modules/linear_model.html#logistic-regression\n",
      "  extra_warning_msg=_LOGISTIC_SOLVER_CONVERGENCE_MSG)\n",
      "/opt/conda/lib/python3.7/site-packages/sklearn/linear_model/_logistic.py:765: ConvergenceWarning: lbfgs failed to converge (status=1):\n",
      "STOP: TOTAL NO. of ITERATIONS REACHED LIMIT.\n",
      "\n",
      "Increase the number of iterations (max_iter) or scale the data as shown in:\n",
      "    https://scikit-learn.org/stable/modules/preprocessing.html\n",
      "Please also refer to the documentation for alternative solver options:\n",
      "    https://scikit-learn.org/stable/modules/linear_model.html#logistic-regression\n",
      "  extra_warning_msg=_LOGISTIC_SOLVER_CONVERGENCE_MSG)\n",
      "/opt/conda/lib/python3.7/site-packages/sklearn/linear_model/_logistic.py:765: ConvergenceWarning: lbfgs failed to converge (status=1):\n",
      "STOP: TOTAL NO. of ITERATIONS REACHED LIMIT.\n",
      "\n",
      "Increase the number of iterations (max_iter) or scale the data as shown in:\n",
      "    https://scikit-learn.org/stable/modules/preprocessing.html\n",
      "Please also refer to the documentation for alternative solver options:\n",
      "    https://scikit-learn.org/stable/modules/linear_model.html#logistic-regression\n",
      "  extra_warning_msg=_LOGISTIC_SOLVER_CONVERGENCE_MSG)\n",
      "/opt/conda/lib/python3.7/site-packages/sklearn/linear_model/_logistic.py:765: ConvergenceWarning: lbfgs failed to converge (status=1):\n",
      "STOP: TOTAL NO. of ITERATIONS REACHED LIMIT.\n",
      "\n",
      "Increase the number of iterations (max_iter) or scale the data as shown in:\n",
      "    https://scikit-learn.org/stable/modules/preprocessing.html\n",
      "Please also refer to the documentation for alternative solver options:\n",
      "    https://scikit-learn.org/stable/modules/linear_model.html#logistic-regression\n",
      "  extra_warning_msg=_LOGISTIC_SOLVER_CONVERGENCE_MSG)\n",
      "/opt/conda/lib/python3.7/site-packages/sklearn/linear_model/_logistic.py:765: ConvergenceWarning: lbfgs failed to converge (status=1):\n",
      "STOP: TOTAL NO. of ITERATIONS REACHED LIMIT.\n",
      "\n",
      "Increase the number of iterations (max_iter) or scale the data as shown in:\n",
      "    https://scikit-learn.org/stable/modules/preprocessing.html\n",
      "Please also refer to the documentation for alternative solver options:\n",
      "    https://scikit-learn.org/stable/modules/linear_model.html#logistic-regression\n",
      "  extra_warning_msg=_LOGISTIC_SOLVER_CONVERGENCE_MSG)\n"
     ]
    },
    {
     "data": {
      "text/plain": [
       "LogisticRegressionCV(cv=5, scoring='accuracy')"
      ]
     },
     "execution_count": 10,
     "metadata": {},
     "output_type": "execute_result"
    }
   ],
   "source": [
    "import pickle\n",
    "from sklearn.linear_model import LogisticRegressionCV\n",
    "\n",
    "logit = LogisticRegressionCV(cv=5, scoring='accuracy', max_iter=100)\n",
    "logit.fit(X_train,y_train)"
   ]
  },
  {
   "cell_type": "code",
   "execution_count": 11,
   "id": "productive-helicopter",
   "metadata": {
    "execution": {
     "iopub.execute_input": "2021-11-02T12:40:00.399084Z",
     "iopub.status.busy": "2021-11-02T12:40:00.398363Z",
     "iopub.status.idle": "2021-11-02T12:40:00.530227Z",
     "shell.execute_reply": "2021-11-02T12:40:00.529468Z"
    },
    "papermill": {
     "duration": 0.285877,
     "end_time": "2021-11-02T12:40:00.530402",
     "exception": false,
     "start_time": "2021-11-02T12:40:00.244525",
     "status": "completed"
    },
    "tags": []
   },
   "outputs": [],
   "source": [
    "filename = 'lr.sav'\n",
    "pickle.dump(logit, open(filename, 'wb'))"
   ]
  },
  {
   "cell_type": "code",
   "execution_count": 12,
   "id": "desperate-monster",
   "metadata": {
    "execution": {
     "iopub.execute_input": "2021-11-02T12:40:00.583576Z",
     "iopub.status.busy": "2021-11-02T12:40:00.582895Z",
     "iopub.status.idle": "2021-11-02T12:40:00.817431Z",
     "shell.execute_reply": "2021-11-02T12:40:00.816797Z"
    },
    "papermill": {
     "duration": 0.262459,
     "end_time": "2021-11-02T12:40:00.817608",
     "exception": false,
     "start_time": "2021-11-02T12:40:00.555149",
     "status": "completed"
    },
    "tags": []
   },
   "outputs": [],
   "source": [
    "logit = pickle.load(open(filename, 'rb'))\n",
    "# get_accuracy_metrics(y_test, logit.predict(X_test))"
   ]
  },
  {
   "cell_type": "code",
   "execution_count": 13,
   "id": "announced-audio",
   "metadata": {
    "execution": {
     "iopub.execute_input": "2021-11-02T12:40:00.872743Z",
     "iopub.status.busy": "2021-11-02T12:40:00.872025Z",
     "iopub.status.idle": "2021-11-02T12:40:00.987463Z",
     "shell.execute_reply": "2021-11-02T12:40:00.986797Z"
    },
    "papermill": {
     "duration": 0.145463,
     "end_time": "2021-11-02T12:40:00.987617",
     "exception": false,
     "start_time": "2021-11-02T12:40:00.842154",
     "status": "completed"
    },
    "tags": []
   },
   "outputs": [
    {
     "data": {
      "text/plain": [
       "0.88984"
      ]
     },
     "execution_count": 13,
     "metadata": {},
     "output_type": "execute_result"
    }
   ],
   "source": [
    "logit.score(X_test,y_test)"
   ]
  },
  {
   "cell_type": "code",
   "execution_count": 14,
   "id": "parental-intention",
   "metadata": {
    "execution": {
     "iopub.execute_input": "2021-11-02T12:40:01.042928Z",
     "iopub.status.busy": "2021-11-02T12:40:01.042261Z",
     "iopub.status.idle": "2021-11-02T12:40:01.060929Z",
     "shell.execute_reply": "2021-11-02T12:40:01.060187Z"
    },
    "papermill": {
     "duration": 0.048694,
     "end_time": "2021-11-02T12:40:01.061108",
     "exception": false,
     "start_time": "2021-11-02T12:40:01.012414",
     "status": "completed"
    },
    "tags": []
   },
   "outputs": [],
   "source": [
    "y_pred = logit.predict(X_test)"
   ]
  },
  {
   "cell_type": "code",
   "execution_count": 15,
   "id": "latin-headquarters",
   "metadata": {
    "execution": {
     "iopub.execute_input": "2021-11-02T12:40:01.124754Z",
     "iopub.status.busy": "2021-11-02T12:40:01.123988Z",
     "iopub.status.idle": "2021-11-02T12:40:01.126850Z",
     "shell.execute_reply": "2021-11-02T12:40:01.126285Z"
    },
    "papermill": {
     "duration": 0.040538,
     "end_time": "2021-11-02T12:40:01.127028",
     "exception": false,
     "start_time": "2021-11-02T12:40:01.086490",
     "status": "completed"
    },
    "tags": []
   },
   "outputs": [],
   "source": [
    "def get_accuracy_metrics(y_test, y_hat):\n",
    "\n",
    "  #Generating accuracy score\n",
    "  print(\"\\nAccuracy attained : {}\\n\".format(accuracy_score(y_hat,y_test)))\n",
    "\n",
    "  #Getting the classification matrix\n",
    "  print(\"The classification report is :\\n\\n{}\".format(classification_report(y_test, y_hat)))\n",
    "\n",
    "  #Confusion matrix\n",
    "  # print(\"Confusion matrix generated\"confusion_matrix(y_test, y_hat))\n",
    "  print(\"\\n\")\n",
    "  sns.heatmap(confusion_matrix(y_test, y_hat),annot=True,fmt='g', square=True)\n",
    "\n",
    "def plot_accuracies(y_hat,model=''):\n",
    "  x,accs=[],[]\n",
    "  max_x,max_acc = 0,0\n",
    "\n",
    "  #iterating through various values of threshold possible ie 0-100\n",
    "  for i in range(0,105,5):\n",
    "    \n",
    "    x.append(i)\n",
    "    z=[]\n",
    "    \n",
    "    #checking if the probability is greater than threshold for each y_hat predicted\n",
    "    for row in y_hat*100:\n",
    "      if max(row)>i:\n",
    "        z.append(np.argmax(row))\n",
    "      else :\n",
    "        z.append(np.argmin(row))\n",
    "    \n",
    "    #Generating a list for accuracy scores\n",
    "    accs.append(accuracy_score(z,y_test))\n",
    "    \n",
    "    if accuracy_score(z,y_test) >= max_acc : \n",
    "      max_acc = accuracy_score(z,y_test)\n",
    "      max_x = i\n",
    "    else : \n",
    "      continue\n",
    "\n",
    "  #Plotting function\n",
    "  plt.figure(figsize=(10,5))\n",
    "  plt.plot(x,accs)\n",
    "  plt.axvline(x=max_x,label='Maximum accuracy at x = {}, value is {}'.format(max_x, max_acc), color='red')\n",
    "  plt.title(\"Accuracies of various thresholds of {}\".format(model))\n",
    "  plt.xlabel(\"Value of threshold\")\n",
    "  plt.ylabel(\"Accuracy\")\n",
    "  plt.legend()\n",
    "\n",
    "  return accs,x"
   ]
  },
  {
   "cell_type": "code",
   "execution_count": 16,
   "id": "skilled-making",
   "metadata": {
    "execution": {
     "iopub.execute_input": "2021-11-02T12:40:01.191471Z",
     "iopub.status.busy": "2021-11-02T12:40:01.190728Z",
     "iopub.status.idle": "2021-11-02T12:40:03.524722Z",
     "shell.execute_reply": "2021-11-02T12:40:03.525248Z"
    },
    "papermill": {
     "duration": 2.365987,
     "end_time": "2021-11-02T12:40:03.525453",
     "exception": false,
     "start_time": "2021-11-02T12:40:01.159466",
     "status": "completed"
    },
    "tags": []
   },
   "outputs": [
    {
     "name": "stdout",
     "output_type": "stream",
     "text": [
      "\n",
      "Accuracy attained : 0.88984\n",
      "\n",
      "The classification report is :\n",
      "\n",
      "              precision    recall  f1-score   support\n",
      "\n",
      "    negative       0.89      0.88      0.89     12474\n",
      "    positive       0.89      0.90      0.89     12526\n",
      "\n",
      "    accuracy                           0.89     25000\n",
      "   macro avg       0.89      0.89      0.89     25000\n",
      "weighted avg       0.89      0.89      0.89     25000\n",
      "\n",
      "\n",
      "\n"
     ]
    },
    {
     "data": {
      "image/png": "[encoded data removed]",
      "text/plain": [
       "<Figure size 432x288 with 2 Axes>"
      ]
     },
     "metadata": {
      "needs_background": "light"
     },
     "output_type": "display_data"
    }
   ],
   "source": [
    "import numpy    as np\n",
    "import pandas   as pd\n",
    "import seaborn  as sns\n",
    "\n",
    "import pickle\n",
    "import matplotlib.pyplot as plt\n",
    "\n",
    "from sklearn.preprocessing    import StandardScaler\n",
    "from sklearn.preprocessing    import RobustScaler\n",
    "from sklearn.preprocessing    import MinMaxScaler\n",
    "from sklearn.model_selection  import train_test_split\n",
    "from sklearn.metrics          import accuracy_score\n",
    "from sklearn.metrics          import classification_report\n",
    "from sklearn.metrics          import confusion_matrix\n",
    "\n",
    "from sklearn.decomposition  import PCA\n",
    "get_accuracy_metrics(y_test, y_pred)"
   ]
  },
  {
   "cell_type": "code",
   "execution_count": null,
   "id": "cellular-influence",
   "metadata": {
    "papermill": {
     "duration": 0.025409,
     "end_time": "2021-11-02T12:40:03.576869",
     "exception": false,
     "start_time": "2021-11-02T12:40:03.551460",
     "status": "completed"
    },
    "tags": []
   },
   "outputs": [],
   "source": []
  }
 ],
 "metadata": {
  "kernelspec": {
   "display_name": "Python 3",
   "language": "python",
   "name": "python3"
  },
  "language_info": {
   "codemirror_mode": {
    "name": "ipython",
    "version": 3
   },
   "file_extension": ".py",
   "mimetype": "text/x-python",
   "name": "python",
   "nbconvert_exporter": "python",
   "pygments_lexer": "ipython3",
   "version": "3.7.9"
  },
  "papermill": {
   "default_parameters": {},
   "duration": 700.722903,
   "end_time": "2021-11-02T12:40:04.717064",
   "environment_variables": {},
   "exception": null,
   "input_path": "__notebook__.ipynb",
   "output_path": "__notebook__.ipynb",
   "parameters": {},
   "start_time": "2021-11-02T12:28:23.994161",
   "version": "2.3.2"
  }
 },
 "nbformat": 4,
 "nbformat_minor": 5
}
