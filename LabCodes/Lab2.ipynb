{
  "nbformat": 4,
  "nbformat_minor": 0,
  "metadata": {
    "colab": {
      "name": "Untitled24.ipynb",
      "provenance": []
    },
    "kernelspec": {
      "name": "python3",
      "display_name": "Python 3"
    },
    "language_info": {
      "name": "python"
    }
  },
  "cells": [
    {
      "cell_type": "markdown",
      "metadata": {
        "id": "6QGq1xWPD03L"
      },
      "source": [
        "# Lab 2"
      ]
    },
    {
      "cell_type": "markdown",
      "metadata": {
        "id": "IInYOu3AQ5Yh"
      },
      "source": [
        "### Task1\n",
        "##### Variable engineering\n",
        "\n",
        "*   Reading file using pandas\n",
        "*   Checking shape of dataframe\n",
        "*   Fixing the column headers\n",
        "*   Replacing nan's\n",
        "*   Datatype corrections\n",
        "*   Categorical variables encoding (label encoding with and without sklearn)\n",
        "*   Describing the dataset using info and describe method\n",
        "*   Saving to csv\n",
        "*   Continuos variables\n",
        "\n",
        "\n",
        "\n",
        "\n",
        "\n"
      ]
    },
    {
      "cell_type": "code",
      "metadata": {
        "id": "MPdQLWJ_gFcc",
        "colab": {
          "base_uri": "https://localhost:8080/",
          "height": 225
        },
        "outputId": "9f6f18a4-b77c-45af-dfd1-ea8002373ad5"
      },
      "source": [
        "import pandas as pd\n",
        "import numpy as np \n",
        "df = pd.read_csv('/content/crx.data', header=None)\n",
        "display(df.head())\n",
        "print(\"Shape of dataframe : \", df.shape)"
      ],
      "execution_count": null,
      "outputs": [
        {
          "output_type": "display_data",
          "data": {
            "text/html": [
              "<div>\n",
              "<style scoped>\n",
              "    .dataframe tbody tr th:only-of-type {\n",
              "        vertical-align: middle;\n",
              "    }\n",
              "\n",
              "    .dataframe tbody tr th {\n",
              "        vertical-align: top;\n",
              "    }\n",
              "\n",
              "    .dataframe thead th {\n",
              "        text-align: right;\n",
              "    }\n",
              "</style>\n",
              "<table border=\"1\" class=\"dataframe\">\n",
              "  <thead>\n",
              "    <tr style=\"text-align: right;\">\n",
              "      <th></th>\n",
              "      <th>0</th>\n",
              "      <th>1</th>\n",
              "      <th>2</th>\n",
              "      <th>3</th>\n",
              "      <th>4</th>\n",
              "      <th>5</th>\n",
              "      <th>6</th>\n",
              "      <th>7</th>\n",
              "      <th>8</th>\n",
              "      <th>9</th>\n",
              "      <th>10</th>\n",
              "      <th>11</th>\n",
              "      <th>12</th>\n",
              "      <th>13</th>\n",
              "      <th>14</th>\n",
              "      <th>15</th>\n",
              "    </tr>\n",
              "  </thead>\n",
              "  <tbody>\n",
              "    <tr>\n",
              "      <th>0</th>\n",
              "      <td>b</td>\n",
              "      <td>30.83</td>\n",
              "      <td>0.000</td>\n",
              "      <td>u</td>\n",
              "      <td>g</td>\n",
              "      <td>w</td>\n",
              "      <td>v</td>\n",
              "      <td>1.25</td>\n",
              "      <td>t</td>\n",
              "      <td>t</td>\n",
              "      <td>1</td>\n",
              "      <td>f</td>\n",
              "      <td>g</td>\n",
              "      <td>00202</td>\n",
              "      <td>0</td>\n",
              "      <td>+</td>\n",
              "    </tr>\n",
              "    <tr>\n",
              "      <th>1</th>\n",
              "      <td>a</td>\n",
              "      <td>58.67</td>\n",
              "      <td>4.460</td>\n",
              "      <td>u</td>\n",
              "      <td>g</td>\n",
              "      <td>q</td>\n",
              "      <td>h</td>\n",
              "      <td>3.04</td>\n",
              "      <td>t</td>\n",
              "      <td>t</td>\n",
              "      <td>6</td>\n",
              "      <td>f</td>\n",
              "      <td>g</td>\n",
              "      <td>00043</td>\n",
              "      <td>560</td>\n",
              "      <td>+</td>\n",
              "    </tr>\n",
              "    <tr>\n",
              "      <th>2</th>\n",
              "      <td>a</td>\n",
              "      <td>24.50</td>\n",
              "      <td>0.500</td>\n",
              "      <td>u</td>\n",
              "      <td>g</td>\n",
              "      <td>q</td>\n",
              "      <td>h</td>\n",
              "      <td>1.50</td>\n",
              "      <td>t</td>\n",
              "      <td>f</td>\n",
              "      <td>0</td>\n",
              "      <td>f</td>\n",
              "      <td>g</td>\n",
              "      <td>00280</td>\n",
              "      <td>824</td>\n",
              "      <td>+</td>\n",
              "    </tr>\n",
              "    <tr>\n",
              "      <th>3</th>\n",
              "      <td>b</td>\n",
              "      <td>27.83</td>\n",
              "      <td>1.540</td>\n",
              "      <td>u</td>\n",
              "      <td>g</td>\n",
              "      <td>w</td>\n",
              "      <td>v</td>\n",
              "      <td>3.75</td>\n",
              "      <td>t</td>\n",
              "      <td>t</td>\n",
              "      <td>5</td>\n",
              "      <td>t</td>\n",
              "      <td>g</td>\n",
              "      <td>00100</td>\n",
              "      <td>3</td>\n",
              "      <td>+</td>\n",
              "    </tr>\n",
              "    <tr>\n",
              "      <th>4</th>\n",
              "      <td>b</td>\n",
              "      <td>20.17</td>\n",
              "      <td>5.625</td>\n",
              "      <td>u</td>\n",
              "      <td>g</td>\n",
              "      <td>w</td>\n",
              "      <td>v</td>\n",
              "      <td>1.71</td>\n",
              "      <td>t</td>\n",
              "      <td>f</td>\n",
              "      <td>0</td>\n",
              "      <td>f</td>\n",
              "      <td>s</td>\n",
              "      <td>00120</td>\n",
              "      <td>0</td>\n",
              "      <td>+</td>\n",
              "    </tr>\n",
              "  </tbody>\n",
              "</table>\n",
              "</div>"
            ],
            "text/plain": [
              "  0      1      2  3  4  5  6     7  8  9   10 11 12     13   14 15\n",
              "0  b  30.83  0.000  u  g  w  v  1.25  t  t   1  f  g  00202    0  +\n",
              "1  a  58.67  4.460  u  g  q  h  3.04  t  t   6  f  g  00043  560  +\n",
              "2  a  24.50  0.500  u  g  q  h  1.50  t  f   0  f  g  00280  824  +\n",
              "3  b  27.83  1.540  u  g  w  v  3.75  t  t   5  t  g  00100    3  +\n",
              "4  b  20.17  5.625  u  g  w  v  1.71  t  f   0  f  s  00120    0  +"
            ]
          },
          "metadata": {
            "tags": []
          }
        },
        {
          "output_type": "stream",
          "text": [
            "Shape of dataframe :  (690, 16)\n"
          ],
          "name": "stdout"
        }
      ]
    },
    {
      "cell_type": "code",
      "metadata": {
        "colab": {
          "base_uri": "https://localhost:8080/",
          "height": 206
        },
        "id": "NCpLVFS_X6bi",
        "outputId": "ae87d7f1-3734-44bf-8345-f3124c58b5d5"
      },
      "source": [
        "df.tail()"
      ],
      "execution_count": null,
      "outputs": [
        {
          "output_type": "execute_result",
          "data": {
            "text/html": [
              "<div>\n",
              "<style scoped>\n",
              "    .dataframe tbody tr th:only-of-type {\n",
              "        vertical-align: middle;\n",
              "    }\n",
              "\n",
              "    .dataframe tbody tr th {\n",
              "        vertical-align: top;\n",
              "    }\n",
              "\n",
              "    .dataframe thead th {\n",
              "        text-align: right;\n",
              "    }\n",
              "</style>\n",
              "<table border=\"1\" class=\"dataframe\">\n",
              "  <thead>\n",
              "    <tr style=\"text-align: right;\">\n",
              "      <th></th>\n",
              "      <th>0</th>\n",
              "      <th>1</th>\n",
              "      <th>2</th>\n",
              "      <th>3</th>\n",
              "      <th>4</th>\n",
              "      <th>5</th>\n",
              "      <th>6</th>\n",
              "      <th>7</th>\n",
              "      <th>8</th>\n",
              "      <th>9</th>\n",
              "      <th>10</th>\n",
              "      <th>11</th>\n",
              "      <th>12</th>\n",
              "      <th>13</th>\n",
              "      <th>14</th>\n",
              "      <th>15</th>\n",
              "    </tr>\n",
              "  </thead>\n",
              "  <tbody>\n",
              "    <tr>\n",
              "      <th>685</th>\n",
              "      <td>b</td>\n",
              "      <td>21.08</td>\n",
              "      <td>10.085</td>\n",
              "      <td>y</td>\n",
              "      <td>p</td>\n",
              "      <td>e</td>\n",
              "      <td>h</td>\n",
              "      <td>1.25</td>\n",
              "      <td>f</td>\n",
              "      <td>f</td>\n",
              "      <td>0</td>\n",
              "      <td>f</td>\n",
              "      <td>g</td>\n",
              "      <td>00260</td>\n",
              "      <td>0</td>\n",
              "      <td>-</td>\n",
              "    </tr>\n",
              "    <tr>\n",
              "      <th>686</th>\n",
              "      <td>a</td>\n",
              "      <td>22.67</td>\n",
              "      <td>0.750</td>\n",
              "      <td>u</td>\n",
              "      <td>g</td>\n",
              "      <td>c</td>\n",
              "      <td>v</td>\n",
              "      <td>2.00</td>\n",
              "      <td>f</td>\n",
              "      <td>t</td>\n",
              "      <td>2</td>\n",
              "      <td>t</td>\n",
              "      <td>g</td>\n",
              "      <td>00200</td>\n",
              "      <td>394</td>\n",
              "      <td>-</td>\n",
              "    </tr>\n",
              "    <tr>\n",
              "      <th>687</th>\n",
              "      <td>a</td>\n",
              "      <td>25.25</td>\n",
              "      <td>13.500</td>\n",
              "      <td>y</td>\n",
              "      <td>p</td>\n",
              "      <td>ff</td>\n",
              "      <td>ff</td>\n",
              "      <td>2.00</td>\n",
              "      <td>f</td>\n",
              "      <td>t</td>\n",
              "      <td>1</td>\n",
              "      <td>t</td>\n",
              "      <td>g</td>\n",
              "      <td>00200</td>\n",
              "      <td>1</td>\n",
              "      <td>-</td>\n",
              "    </tr>\n",
              "    <tr>\n",
              "      <th>688</th>\n",
              "      <td>b</td>\n",
              "      <td>17.92</td>\n",
              "      <td>0.205</td>\n",
              "      <td>u</td>\n",
              "      <td>g</td>\n",
              "      <td>aa</td>\n",
              "      <td>v</td>\n",
              "      <td>0.04</td>\n",
              "      <td>f</td>\n",
              "      <td>f</td>\n",
              "      <td>0</td>\n",
              "      <td>f</td>\n",
              "      <td>g</td>\n",
              "      <td>00280</td>\n",
              "      <td>750</td>\n",
              "      <td>-</td>\n",
              "    </tr>\n",
              "    <tr>\n",
              "      <th>689</th>\n",
              "      <td>b</td>\n",
              "      <td>35.00</td>\n",
              "      <td>3.375</td>\n",
              "      <td>u</td>\n",
              "      <td>g</td>\n",
              "      <td>c</td>\n",
              "      <td>h</td>\n",
              "      <td>8.29</td>\n",
              "      <td>f</td>\n",
              "      <td>f</td>\n",
              "      <td>0</td>\n",
              "      <td>t</td>\n",
              "      <td>g</td>\n",
              "      <td>00000</td>\n",
              "      <td>0</td>\n",
              "      <td>-</td>\n",
              "    </tr>\n",
              "  </tbody>\n",
              "</table>\n",
              "</div>"
            ],
            "text/plain": [
              "    0      1       2  3  4   5   6     7  8  9   10 11 12     13   14 15\n",
              "685  b  21.08  10.085  y  p   e   h  1.25  f  f   0  f  g  00260    0  -\n",
              "686  a  22.67   0.750  u  g   c   v  2.00  f  t   2  t  g  00200  394  -\n",
              "687  a  25.25  13.500  y  p  ff  ff  2.00  f  t   1  t  g  00200    1  -\n",
              "688  b  17.92   0.205  u  g  aa   v  0.04  f  f   0  f  g  00280  750  -\n",
              "689  b  35.00   3.375  u  g   c   h  8.29  f  f   0  t  g  00000    0  -"
            ]
          },
          "metadata": {
            "tags": []
          },
          "execution_count": 2
        }
      ]
    },
    {
      "cell_type": "code",
      "metadata": {
        "colab": {
          "base_uri": "https://localhost:8080/",
          "height": 206
        },
        "id": "eDwe9AqJInAX",
        "outputId": "f7d64f49-9f00-4021-fec5-3ccb67cb0b6d"
      },
      "source": [
        "# Column Headers\n",
        "df.columns = [\"A\"+str(s) for s in range(1,17)]\n",
        "display(df.head())"
      ],
      "execution_count": null,
      "outputs": [
        {
          "output_type": "display_data",
          "data": {
            "text/html": [
              "<div>\n",
              "<style scoped>\n",
              "    .dataframe tbody tr th:only-of-type {\n",
              "        vertical-align: middle;\n",
              "    }\n",
              "\n",
              "    .dataframe tbody tr th {\n",
              "        vertical-align: top;\n",
              "    }\n",
              "\n",
              "    .dataframe thead th {\n",
              "        text-align: right;\n",
              "    }\n",
              "</style>\n",
              "<table border=\"1\" class=\"dataframe\">\n",
              "  <thead>\n",
              "    <tr style=\"text-align: right;\">\n",
              "      <th></th>\n",
              "      <th>A1</th>\n",
              "      <th>A2</th>\n",
              "      <th>A3</th>\n",
              "      <th>A4</th>\n",
              "      <th>A5</th>\n",
              "      <th>A6</th>\n",
              "      <th>A7</th>\n",
              "      <th>A8</th>\n",
              "      <th>A9</th>\n",
              "      <th>A10</th>\n",
              "      <th>A11</th>\n",
              "      <th>A12</th>\n",
              "      <th>A13</th>\n",
              "      <th>A14</th>\n",
              "      <th>A15</th>\n",
              "      <th>A16</th>\n",
              "    </tr>\n",
              "  </thead>\n",
              "  <tbody>\n",
              "    <tr>\n",
              "      <th>0</th>\n",
              "      <td>b</td>\n",
              "      <td>30.83</td>\n",
              "      <td>0.000</td>\n",
              "      <td>u</td>\n",
              "      <td>g</td>\n",
              "      <td>w</td>\n",
              "      <td>v</td>\n",
              "      <td>1.25</td>\n",
              "      <td>t</td>\n",
              "      <td>t</td>\n",
              "      <td>1</td>\n",
              "      <td>f</td>\n",
              "      <td>g</td>\n",
              "      <td>00202</td>\n",
              "      <td>0</td>\n",
              "      <td>+</td>\n",
              "    </tr>\n",
              "    <tr>\n",
              "      <th>1</th>\n",
              "      <td>a</td>\n",
              "      <td>58.67</td>\n",
              "      <td>4.460</td>\n",
              "      <td>u</td>\n",
              "      <td>g</td>\n",
              "      <td>q</td>\n",
              "      <td>h</td>\n",
              "      <td>3.04</td>\n",
              "      <td>t</td>\n",
              "      <td>t</td>\n",
              "      <td>6</td>\n",
              "      <td>f</td>\n",
              "      <td>g</td>\n",
              "      <td>00043</td>\n",
              "      <td>560</td>\n",
              "      <td>+</td>\n",
              "    </tr>\n",
              "    <tr>\n",
              "      <th>2</th>\n",
              "      <td>a</td>\n",
              "      <td>24.50</td>\n",
              "      <td>0.500</td>\n",
              "      <td>u</td>\n",
              "      <td>g</td>\n",
              "      <td>q</td>\n",
              "      <td>h</td>\n",
              "      <td>1.50</td>\n",
              "      <td>t</td>\n",
              "      <td>f</td>\n",
              "      <td>0</td>\n",
              "      <td>f</td>\n",
              "      <td>g</td>\n",
              "      <td>00280</td>\n",
              "      <td>824</td>\n",
              "      <td>+</td>\n",
              "    </tr>\n",
              "    <tr>\n",
              "      <th>3</th>\n",
              "      <td>b</td>\n",
              "      <td>27.83</td>\n",
              "      <td>1.540</td>\n",
              "      <td>u</td>\n",
              "      <td>g</td>\n",
              "      <td>w</td>\n",
              "      <td>v</td>\n",
              "      <td>3.75</td>\n",
              "      <td>t</td>\n",
              "      <td>t</td>\n",
              "      <td>5</td>\n",
              "      <td>t</td>\n",
              "      <td>g</td>\n",
              "      <td>00100</td>\n",
              "      <td>3</td>\n",
              "      <td>+</td>\n",
              "    </tr>\n",
              "    <tr>\n",
              "      <th>4</th>\n",
              "      <td>b</td>\n",
              "      <td>20.17</td>\n",
              "      <td>5.625</td>\n",
              "      <td>u</td>\n",
              "      <td>g</td>\n",
              "      <td>w</td>\n",
              "      <td>v</td>\n",
              "      <td>1.71</td>\n",
              "      <td>t</td>\n",
              "      <td>f</td>\n",
              "      <td>0</td>\n",
              "      <td>f</td>\n",
              "      <td>s</td>\n",
              "      <td>00120</td>\n",
              "      <td>0</td>\n",
              "      <td>+</td>\n",
              "    </tr>\n",
              "  </tbody>\n",
              "</table>\n",
              "</div>"
            ],
            "text/plain": [
              "  A1     A2     A3 A4 A5 A6 A7    A8 A9 A10  A11 A12 A13    A14  A15 A16\n",
              "0  b  30.83  0.000  u  g  w  v  1.25  t   t    1   f   g  00202    0   +\n",
              "1  a  58.67  4.460  u  g  q  h  3.04  t   t    6   f   g  00043  560   +\n",
              "2  a  24.50  0.500  u  g  q  h  1.50  t   f    0   f   g  00280  824   +\n",
              "3  b  27.83  1.540  u  g  w  v  3.75  t   t    5   t   g  00100    3   +\n",
              "4  b  20.17  5.625  u  g  w  v  1.71  t   f    0   f   s  00120    0   +"
            ]
          },
          "metadata": {
            "tags": []
          }
        }
      ]
    },
    {
      "cell_type": "code",
      "metadata": {
        "id": "MBdyChf-IqDl"
      },
      "source": [
        "# replaces ? with np.nan\n",
        "df = df.replace('?', np.nan)"
      ],
      "execution_count": null,
      "outputs": []
    },
    {
      "cell_type": "code",
      "metadata": {
        "colab": {
          "base_uri": "https://localhost:8080/"
        },
        "id": "L54ZgwMfOhD4",
        "outputId": "f8b9396b-c9ee-48c9-da35-bdf78b79d53f"
      },
      "source": [
        "for col in df.columns:\n",
        "  print(col + \" has \" + str(df[col].nunique()) + \" unqiue values\")"
      ],
      "execution_count": null,
      "outputs": [
        {
          "output_type": "stream",
          "text": [
            "A1 has 2 unqiue values\n",
            "A2 has 349 unqiue values\n",
            "A3 has 215 unqiue values\n",
            "A4 has 3 unqiue values\n",
            "A5 has 3 unqiue values\n",
            "A6 has 14 unqiue values\n",
            "A7 has 9 unqiue values\n",
            "A8 has 132 unqiue values\n",
            "A9 has 2 unqiue values\n",
            "A10 has 2 unqiue values\n",
            "A11 has 23 unqiue values\n",
            "A12 has 2 unqiue values\n",
            "A13 has 3 unqiue values\n",
            "A14 has 170 unqiue values\n",
            "A15 has 240 unqiue values\n",
            "A16 has 2 unqiue values\n"
          ],
          "name": "stdout"
        }
      ]
    },
    {
      "cell_type": "code",
      "metadata": {
        "colab": {
          "base_uri": "https://localhost:8080/",
          "height": 54
        },
        "id": "LVSymPHDItB4",
        "outputId": "25d83375-776c-4a46-acef-1cc3e8c643ad"
      },
      "source": [
        "# correcting dtypes\n",
        "display(df['A2'].dtypes)\n",
        "df['A2'] = df['A2'].astype(\"float\")\n",
        "df['A14'] = df['A14'].astype(\"float\")\n",
        "display(df['A2'].dtypes)"
      ],
      "execution_count": null,
      "outputs": [
        {
          "output_type": "display_data",
          "data": {
            "text/plain": [
              "dtype('float64')"
            ]
          },
          "metadata": {
            "tags": []
          }
        },
        {
          "output_type": "display_data",
          "data": {
            "text/plain": [
              "dtype('float64')"
            ]
          },
          "metadata": {
            "tags": []
          }
        }
      ]
    },
    {
      "cell_type": "code",
      "metadata": {
        "colab": {
          "base_uri": "https://localhost:8080/"
        },
        "id": "0zXmx9cbF48s",
        "outputId": "a1330daa-5ff8-42f6-ddee-b2106ed2bafa"
      },
      "source": [
        "#label encoding A16\n",
        "print(np.array(df['A16'][0:10]))\n",
        "df['A16_le'] = df[\"A16\"].map({'+':1,'-':0})\n",
        "print(np.array(df['A16_le'])[0:10])\n",
        "\n",
        "#label encoding using sklearn\n",
        "import sklearn\n",
        "from sklearn import preprocessing\n",
        "le = preprocessing.LabelEncoder()\n",
        "le.fit(df['A16'])\n",
        "df['A16_le_sk'] = le.transform(df['A16'])\n",
        "print(\"Classes detected : \", le.classes_)\n",
        "print(np.array(df['A16_le_sk'])[0:10])"
      ],
      "execution_count": null,
      "outputs": [
        {
          "output_type": "stream",
          "text": [
            "['+' '+' '+' '+' '+' '+' '+' '+' '+' '+']\n",
            "[1 1 1 1 1 1 1 1 1 1]\n",
            "Classes detected :  ['+' '-']\n",
            "[0 0 0 0 0 0 0 0 0 0]\n"
          ],
          "name": "stdout"
        }
      ]
    },
    {
      "cell_type": "code",
      "metadata": {
        "colab": {
          "base_uri": "https://localhost:8080/"
        },
        "id": "JVmW680iF6He",
        "outputId": "81ae1f8d-6562-4606-fe8f-59cd4788dddc"
      },
      "source": [
        "df.info()"
      ],
      "execution_count": null,
      "outputs": [
        {
          "output_type": "stream",
          "text": [
            "<class 'pandas.core.frame.DataFrame'>\n",
            "RangeIndex: 690 entries, 0 to 689\n",
            "Data columns (total 18 columns):\n",
            " #   Column     Non-Null Count  Dtype  \n",
            "---  ------     --------------  -----  \n",
            " 0   A1         678 non-null    object \n",
            " 1   A2         678 non-null    float64\n",
            " 2   A3         690 non-null    float64\n",
            " 3   A4         684 non-null    object \n",
            " 4   A5         684 non-null    object \n",
            " 5   A6         681 non-null    object \n",
            " 6   A7         681 non-null    object \n",
            " 7   A8         690 non-null    float64\n",
            " 8   A9         690 non-null    object \n",
            " 9   A10        690 non-null    object \n",
            " 10  A11        690 non-null    int64  \n",
            " 11  A12        690 non-null    object \n",
            " 12  A13        690 non-null    object \n",
            " 13  A14        677 non-null    float64\n",
            " 14  A15        690 non-null    int64  \n",
            " 15  A16        690 non-null    object \n",
            " 16  A16_le     690 non-null    int64  \n",
            " 17  A16_le_sk  690 non-null    int64  \n",
            "dtypes: float64(4), int64(4), object(10)\n",
            "memory usage: 97.2+ KB\n"
          ],
          "name": "stdout"
        }
      ]
    },
    {
      "cell_type": "code",
      "metadata": {
        "colab": {
          "base_uri": "https://localhost:8080/",
          "height": 301
        },
        "id": "amL32jLRJz5E",
        "outputId": "c116e414-a6a3-40c9-cfc3-fe4ace49dd46"
      },
      "source": [
        "df.describe()"
      ],
      "execution_count": null,
      "outputs": [
        {
          "output_type": "execute_result",
          "data": {
            "text/html": [
              "<div>\n",
              "<style scoped>\n",
              "    .dataframe tbody tr th:only-of-type {\n",
              "        vertical-align: middle;\n",
              "    }\n",
              "\n",
              "    .dataframe tbody tr th {\n",
              "        vertical-align: top;\n",
              "    }\n",
              "\n",
              "    .dataframe thead th {\n",
              "        text-align: right;\n",
              "    }\n",
              "</style>\n",
              "<table border=\"1\" class=\"dataframe\">\n",
              "  <thead>\n",
              "    <tr style=\"text-align: right;\">\n",
              "      <th></th>\n",
              "      <th>A2</th>\n",
              "      <th>A3</th>\n",
              "      <th>A8</th>\n",
              "      <th>A11</th>\n",
              "      <th>A14</th>\n",
              "      <th>A15</th>\n",
              "      <th>A16_le</th>\n",
              "      <th>A16_le_sk</th>\n",
              "    </tr>\n",
              "  </thead>\n",
              "  <tbody>\n",
              "    <tr>\n",
              "      <th>count</th>\n",
              "      <td>678.000000</td>\n",
              "      <td>690.000000</td>\n",
              "      <td>690.000000</td>\n",
              "      <td>690.00000</td>\n",
              "      <td>677.000000</td>\n",
              "      <td>690.000000</td>\n",
              "      <td>690.000000</td>\n",
              "      <td>690.000000</td>\n",
              "    </tr>\n",
              "    <tr>\n",
              "      <th>mean</th>\n",
              "      <td>31.568171</td>\n",
              "      <td>4.758725</td>\n",
              "      <td>2.223406</td>\n",
              "      <td>2.40000</td>\n",
              "      <td>184.014771</td>\n",
              "      <td>1017.385507</td>\n",
              "      <td>0.444928</td>\n",
              "      <td>0.555072</td>\n",
              "    </tr>\n",
              "    <tr>\n",
              "      <th>std</th>\n",
              "      <td>11.957862</td>\n",
              "      <td>4.978163</td>\n",
              "      <td>3.346513</td>\n",
              "      <td>4.86294</td>\n",
              "      <td>173.806768</td>\n",
              "      <td>5210.102598</td>\n",
              "      <td>0.497318</td>\n",
              "      <td>0.497318</td>\n",
              "    </tr>\n",
              "    <tr>\n",
              "      <th>min</th>\n",
              "      <td>13.750000</td>\n",
              "      <td>0.000000</td>\n",
              "      <td>0.000000</td>\n",
              "      <td>0.00000</td>\n",
              "      <td>0.000000</td>\n",
              "      <td>0.000000</td>\n",
              "      <td>0.000000</td>\n",
              "      <td>0.000000</td>\n",
              "    </tr>\n",
              "    <tr>\n",
              "      <th>25%</th>\n",
              "      <td>22.602500</td>\n",
              "      <td>1.000000</td>\n",
              "      <td>0.165000</td>\n",
              "      <td>0.00000</td>\n",
              "      <td>75.000000</td>\n",
              "      <td>0.000000</td>\n",
              "      <td>0.000000</td>\n",
              "      <td>0.000000</td>\n",
              "    </tr>\n",
              "    <tr>\n",
              "      <th>50%</th>\n",
              "      <td>28.460000</td>\n",
              "      <td>2.750000</td>\n",
              "      <td>1.000000</td>\n",
              "      <td>0.00000</td>\n",
              "      <td>160.000000</td>\n",
              "      <td>5.000000</td>\n",
              "      <td>0.000000</td>\n",
              "      <td>1.000000</td>\n",
              "    </tr>\n",
              "    <tr>\n",
              "      <th>75%</th>\n",
              "      <td>38.230000</td>\n",
              "      <td>7.207500</td>\n",
              "      <td>2.625000</td>\n",
              "      <td>3.00000</td>\n",
              "      <td>276.000000</td>\n",
              "      <td>395.500000</td>\n",
              "      <td>1.000000</td>\n",
              "      <td>1.000000</td>\n",
              "    </tr>\n",
              "    <tr>\n",
              "      <th>max</th>\n",
              "      <td>80.250000</td>\n",
              "      <td>28.000000</td>\n",
              "      <td>28.500000</td>\n",
              "      <td>67.00000</td>\n",
              "      <td>2000.000000</td>\n",
              "      <td>100000.000000</td>\n",
              "      <td>1.000000</td>\n",
              "      <td>1.000000</td>\n",
              "    </tr>\n",
              "  </tbody>\n",
              "</table>\n",
              "</div>"
            ],
            "text/plain": [
              "               A2          A3  ...      A16_le   A16_le_sk\n",
              "count  678.000000  690.000000  ...  690.000000  690.000000\n",
              "mean    31.568171    4.758725  ...    0.444928    0.555072\n",
              "std     11.957862    4.978163  ...    0.497318    0.497318\n",
              "min     13.750000    0.000000  ...    0.000000    0.000000\n",
              "25%     22.602500    1.000000  ...    0.000000    0.000000\n",
              "50%     28.460000    2.750000  ...    0.000000    1.000000\n",
              "75%     38.230000    7.207500  ...    1.000000    1.000000\n",
              "max     80.250000   28.000000  ...    1.000000    1.000000\n",
              "\n",
              "[8 rows x 8 columns]"
            ]
          },
          "metadata": {
            "tags": []
          },
          "execution_count": 188
        }
      ]
    },
    {
      "cell_type": "code",
      "metadata": {
        "id": "megJMeAjK44J"
      },
      "source": [
        "df.to_csv('/content/new_crx.csv')"
      ],
      "execution_count": null,
      "outputs": []
    },
    {
      "cell_type": "code",
      "metadata": {
        "colab": {
          "base_uri": "https://localhost:8080/",
          "height": 206
        },
        "id": "qiTHfstqLJ72",
        "outputId": "2d2ec821-47a2-49c8-dd17-8ddea04127d9"
      },
      "source": [
        "# for c in df.columns:\n",
        "#   if df[c].dtypes==\"object\" :\n",
        "#     print(c)\n",
        "\n",
        "cat_cols = [c for c in df.columns if df[c].dtypes==\"object\"]\n",
        "display(df[cat_cols].head())\n",
        "df[cat_cols] = df[cat_cols].fillna(\"0\")"
      ],
      "execution_count": null,
      "outputs": [
        {
          "output_type": "display_data",
          "data": {
            "text/html": [
              "<div>\n",
              "<style scoped>\n",
              "    .dataframe tbody tr th:only-of-type {\n",
              "        vertical-align: middle;\n",
              "    }\n",
              "\n",
              "    .dataframe tbody tr th {\n",
              "        vertical-align: top;\n",
              "    }\n",
              "\n",
              "    .dataframe thead th {\n",
              "        text-align: right;\n",
              "    }\n",
              "</style>\n",
              "<table border=\"1\" class=\"dataframe\">\n",
              "  <thead>\n",
              "    <tr style=\"text-align: right;\">\n",
              "      <th></th>\n",
              "      <th>A1</th>\n",
              "      <th>A4</th>\n",
              "      <th>A5</th>\n",
              "      <th>A6</th>\n",
              "      <th>A7</th>\n",
              "      <th>A9</th>\n",
              "      <th>A10</th>\n",
              "      <th>A12</th>\n",
              "      <th>A13</th>\n",
              "      <th>A16</th>\n",
              "    </tr>\n",
              "  </thead>\n",
              "  <tbody>\n",
              "    <tr>\n",
              "      <th>0</th>\n",
              "      <td>b</td>\n",
              "      <td>u</td>\n",
              "      <td>g</td>\n",
              "      <td>w</td>\n",
              "      <td>v</td>\n",
              "      <td>t</td>\n",
              "      <td>t</td>\n",
              "      <td>f</td>\n",
              "      <td>g</td>\n",
              "      <td>+</td>\n",
              "    </tr>\n",
              "    <tr>\n",
              "      <th>1</th>\n",
              "      <td>a</td>\n",
              "      <td>u</td>\n",
              "      <td>g</td>\n",
              "      <td>q</td>\n",
              "      <td>h</td>\n",
              "      <td>t</td>\n",
              "      <td>t</td>\n",
              "      <td>f</td>\n",
              "      <td>g</td>\n",
              "      <td>+</td>\n",
              "    </tr>\n",
              "    <tr>\n",
              "      <th>2</th>\n",
              "      <td>a</td>\n",
              "      <td>u</td>\n",
              "      <td>g</td>\n",
              "      <td>q</td>\n",
              "      <td>h</td>\n",
              "      <td>t</td>\n",
              "      <td>f</td>\n",
              "      <td>f</td>\n",
              "      <td>g</td>\n",
              "      <td>+</td>\n",
              "    </tr>\n",
              "    <tr>\n",
              "      <th>3</th>\n",
              "      <td>b</td>\n",
              "      <td>u</td>\n",
              "      <td>g</td>\n",
              "      <td>w</td>\n",
              "      <td>v</td>\n",
              "      <td>t</td>\n",
              "      <td>t</td>\n",
              "      <td>t</td>\n",
              "      <td>g</td>\n",
              "      <td>+</td>\n",
              "    </tr>\n",
              "    <tr>\n",
              "      <th>4</th>\n",
              "      <td>b</td>\n",
              "      <td>u</td>\n",
              "      <td>g</td>\n",
              "      <td>w</td>\n",
              "      <td>v</td>\n",
              "      <td>t</td>\n",
              "      <td>f</td>\n",
              "      <td>f</td>\n",
              "      <td>s</td>\n",
              "      <td>+</td>\n",
              "    </tr>\n",
              "  </tbody>\n",
              "</table>\n",
              "</div>"
            ],
            "text/plain": [
              "  A1 A4 A5 A6 A7 A9 A10 A12 A13 A16\n",
              "0  b  u  g  w  v  t   t   f   g   +\n",
              "1  a  u  g  q  h  t   t   f   g   +\n",
              "2  a  u  g  q  h  t   f   f   g   +\n",
              "3  b  u  g  w  v  t   t   t   g   +\n",
              "4  b  u  g  w  v  t   f   f   s   +"
            ]
          },
          "metadata": {
            "tags": []
          }
        }
      ]
    },
    {
      "cell_type": "code",
      "metadata": {
        "colab": {
          "base_uri": "https://localhost:8080/",
          "height": 461
        },
        "id": "8wJDslh4MNRN",
        "outputId": "a8a270d6-46b3-45b7-d715-2dabddedecab"
      },
      "source": [
        "# finding the numeical columns\n",
        "print([c for c in df.columns if df[c].dtypes!=\"object\"])\n",
        "# problem with above approach is tht datetime will also be a part of these hence the below solution is to resolve this problem\n",
        "print([c for c in df.columns if df[c].dtypes==\"float\" or df[c].dtypes==\"int\"])\n",
        "# to get continuos variables int or float and since categorical features can also be included the number of unique values must be greater than a certain threshold\n",
        "cont_vars = [c for c in df.columns if ((df[c].dtypes==\"float\" or df[c].dtypes==\"int\") and df[c].nunique()>10)]\n",
        "df[cont_vars]"
      ],
      "execution_count": null,
      "outputs": [
        {
          "output_type": "stream",
          "text": [
            "['A2', 'A3', 'A8', 'A11', 'A15', 'A16_le', 'A16_le_sk']\n",
            "['A2', 'A3', 'A8', 'A11', 'A15', 'A16_le', 'A16_le_sk']\n"
          ],
          "name": "stdout"
        },
        {
          "output_type": "execute_result",
          "data": {
            "text/html": [
              "<div>\n",
              "<style scoped>\n",
              "    .dataframe tbody tr th:only-of-type {\n",
              "        vertical-align: middle;\n",
              "    }\n",
              "\n",
              "    .dataframe tbody tr th {\n",
              "        vertical-align: top;\n",
              "    }\n",
              "\n",
              "    .dataframe thead th {\n",
              "        text-align: right;\n",
              "    }\n",
              "</style>\n",
              "<table border=\"1\" class=\"dataframe\">\n",
              "  <thead>\n",
              "    <tr style=\"text-align: right;\">\n",
              "      <th></th>\n",
              "      <th>A2</th>\n",
              "      <th>A3</th>\n",
              "      <th>A8</th>\n",
              "      <th>A11</th>\n",
              "      <th>A15</th>\n",
              "    </tr>\n",
              "  </thead>\n",
              "  <tbody>\n",
              "    <tr>\n",
              "      <th>0</th>\n",
              "      <td>30.83</td>\n",
              "      <td>0.000</td>\n",
              "      <td>1.25</td>\n",
              "      <td>1</td>\n",
              "      <td>0</td>\n",
              "    </tr>\n",
              "    <tr>\n",
              "      <th>1</th>\n",
              "      <td>58.67</td>\n",
              "      <td>4.460</td>\n",
              "      <td>3.04</td>\n",
              "      <td>6</td>\n",
              "      <td>560</td>\n",
              "    </tr>\n",
              "    <tr>\n",
              "      <th>2</th>\n",
              "      <td>24.50</td>\n",
              "      <td>0.500</td>\n",
              "      <td>1.50</td>\n",
              "      <td>0</td>\n",
              "      <td>824</td>\n",
              "    </tr>\n",
              "    <tr>\n",
              "      <th>3</th>\n",
              "      <td>27.83</td>\n",
              "      <td>1.540</td>\n",
              "      <td>3.75</td>\n",
              "      <td>5</td>\n",
              "      <td>3</td>\n",
              "    </tr>\n",
              "    <tr>\n",
              "      <th>4</th>\n",
              "      <td>20.17</td>\n",
              "      <td>5.625</td>\n",
              "      <td>1.71</td>\n",
              "      <td>0</td>\n",
              "      <td>0</td>\n",
              "    </tr>\n",
              "    <tr>\n",
              "      <th>...</th>\n",
              "      <td>...</td>\n",
              "      <td>...</td>\n",
              "      <td>...</td>\n",
              "      <td>...</td>\n",
              "      <td>...</td>\n",
              "    </tr>\n",
              "    <tr>\n",
              "      <th>685</th>\n",
              "      <td>21.08</td>\n",
              "      <td>10.085</td>\n",
              "      <td>1.25</td>\n",
              "      <td>0</td>\n",
              "      <td>0</td>\n",
              "    </tr>\n",
              "    <tr>\n",
              "      <th>686</th>\n",
              "      <td>22.67</td>\n",
              "      <td>0.750</td>\n",
              "      <td>2.00</td>\n",
              "      <td>2</td>\n",
              "      <td>394</td>\n",
              "    </tr>\n",
              "    <tr>\n",
              "      <th>687</th>\n",
              "      <td>25.25</td>\n",
              "      <td>13.500</td>\n",
              "      <td>2.00</td>\n",
              "      <td>1</td>\n",
              "      <td>1</td>\n",
              "    </tr>\n",
              "    <tr>\n",
              "      <th>688</th>\n",
              "      <td>17.92</td>\n",
              "      <td>0.205</td>\n",
              "      <td>0.04</td>\n",
              "      <td>0</td>\n",
              "      <td>750</td>\n",
              "    </tr>\n",
              "    <tr>\n",
              "      <th>689</th>\n",
              "      <td>35.00</td>\n",
              "      <td>3.375</td>\n",
              "      <td>8.29</td>\n",
              "      <td>0</td>\n",
              "      <td>0</td>\n",
              "    </tr>\n",
              "  </tbody>\n",
              "</table>\n",
              "<p>690 rows × 5 columns</p>\n",
              "</div>"
            ],
            "text/plain": [
              "        A2      A3    A8  A11  A15\n",
              "0    30.83   0.000  1.25    1    0\n",
              "1    58.67   4.460  3.04    6  560\n",
              "2    24.50   0.500  1.50    0  824\n",
              "3    27.83   1.540  3.75    5    3\n",
              "4    20.17   5.625  1.71    0    0\n",
              "..     ...     ...   ...  ...  ...\n",
              "685  21.08  10.085  1.25    0    0\n",
              "686  22.67   0.750  2.00    2  394\n",
              "687  25.25  13.500  2.00    1    1\n",
              "688  17.92   0.205  0.04    0  750\n",
              "689  35.00   3.375  8.29    0    0\n",
              "\n",
              "[690 rows x 5 columns]"
            ]
          },
          "metadata": {
            "tags": []
          },
          "execution_count": 151
        }
      ]
    },
    {
      "cell_type": "markdown",
      "metadata": {
        "id": "56cRqfmYQrxh"
      },
      "source": [
        "### Task 2\n",
        "\n",
        "*    Reading csv file\n",
        "*    Number of unique values in the column\n",
        "*    Number of rows of the particular value in the column\n",
        "*    Converting to datetime values\n",
        "*    Extrating datetime features\n",
        "*    Grouping by value\n",
        "*    Plotting graphs using matplotlib"
      ]
    },
    {
      "cell_type": "code",
      "metadata": {
        "colab": {
          "base_uri": "https://localhost:8080/",
          "height": 206
        },
        "id": "cUHK5WlCMQQH",
        "outputId": "6787dbc1-aa9a-4782-f137-ec4875b8e889"
      },
      "source": [
        "loan_df = pd.read_csv('/content/loan.csv')\n",
        "display(loan_df.head())"
      ],
      "execution_count": null,
      "outputs": [
        {
          "output_type": "display_data",
          "data": {
            "text/html": [
              "<div>\n",
              "<style scoped>\n",
              "    .dataframe tbody tr th:only-of-type {\n",
              "        vertical-align: middle;\n",
              "    }\n",
              "\n",
              "    .dataframe tbody tr th {\n",
              "        vertical-align: top;\n",
              "    }\n",
              "\n",
              "    .dataframe thead th {\n",
              "        text-align: right;\n",
              "    }\n",
              "</style>\n",
              "<table border=\"1\" class=\"dataframe\">\n",
              "  <thead>\n",
              "    <tr style=\"text-align: right;\">\n",
              "      <th></th>\n",
              "      <th>customer_id</th>\n",
              "      <th>disbursed_amount</th>\n",
              "      <th>interest</th>\n",
              "      <th>market</th>\n",
              "      <th>employment</th>\n",
              "      <th>time_employed</th>\n",
              "      <th>householder</th>\n",
              "      <th>income</th>\n",
              "      <th>date_issued</th>\n",
              "      <th>target</th>\n",
              "      <th>loan_purpose</th>\n",
              "      <th>number_open_accounts</th>\n",
              "      <th>date_last_payment</th>\n",
              "      <th>number_credit_lines_12</th>\n",
              "    </tr>\n",
              "  </thead>\n",
              "  <tbody>\n",
              "    <tr>\n",
              "      <th>0</th>\n",
              "      <td>0</td>\n",
              "      <td>23201.5</td>\n",
              "      <td>15.4840</td>\n",
              "      <td>C</td>\n",
              "      <td>Teacher</td>\n",
              "      <td>&lt;=5 years</td>\n",
              "      <td>RENT</td>\n",
              "      <td>84600.0</td>\n",
              "      <td>2013-06-11</td>\n",
              "      <td>0</td>\n",
              "      <td>Debt consolidation</td>\n",
              "      <td>4.0</td>\n",
              "      <td>2016-01-14</td>\n",
              "      <td>NaN</td>\n",
              "    </tr>\n",
              "    <tr>\n",
              "      <th>1</th>\n",
              "      <td>1</td>\n",
              "      <td>7425.0</td>\n",
              "      <td>11.2032</td>\n",
              "      <td>B</td>\n",
              "      <td>Accountant</td>\n",
              "      <td>&lt;=5 years</td>\n",
              "      <td>OWNER</td>\n",
              "      <td>102000.0</td>\n",
              "      <td>2014-05-08</td>\n",
              "      <td>0</td>\n",
              "      <td>Car purchase</td>\n",
              "      <td>13.0</td>\n",
              "      <td>2016-01-25</td>\n",
              "      <td>NaN</td>\n",
              "    </tr>\n",
              "    <tr>\n",
              "      <th>2</th>\n",
              "      <td>2</td>\n",
              "      <td>11150.0</td>\n",
              "      <td>8.5100</td>\n",
              "      <td>A</td>\n",
              "      <td>Statistician</td>\n",
              "      <td>&lt;=5 years</td>\n",
              "      <td>RENT</td>\n",
              "      <td>69840.0</td>\n",
              "      <td>2013-10-26</td>\n",
              "      <td>0</td>\n",
              "      <td>Debt consolidation</td>\n",
              "      <td>8.0</td>\n",
              "      <td>2014-09-26</td>\n",
              "      <td>NaN</td>\n",
              "    </tr>\n",
              "    <tr>\n",
              "      <th>3</th>\n",
              "      <td>3</td>\n",
              "      <td>7600.0</td>\n",
              "      <td>5.8656</td>\n",
              "      <td>A</td>\n",
              "      <td>Other</td>\n",
              "      <td>&lt;=5 years</td>\n",
              "      <td>RENT</td>\n",
              "      <td>100386.0</td>\n",
              "      <td>2015-08-20</td>\n",
              "      <td>0</td>\n",
              "      <td>Debt consolidation</td>\n",
              "      <td>20.0</td>\n",
              "      <td>2016-01-26</td>\n",
              "      <td>NaN</td>\n",
              "    </tr>\n",
              "    <tr>\n",
              "      <th>4</th>\n",
              "      <td>4</td>\n",
              "      <td>31960.0</td>\n",
              "      <td>18.7392</td>\n",
              "      <td>E</td>\n",
              "      <td>Bus driver</td>\n",
              "      <td>&gt;5 years</td>\n",
              "      <td>RENT</td>\n",
              "      <td>95040.0</td>\n",
              "      <td>2014-07-22</td>\n",
              "      <td>0</td>\n",
              "      <td>Debt consolidation</td>\n",
              "      <td>14.0</td>\n",
              "      <td>2016-01-11</td>\n",
              "      <td>NaN</td>\n",
              "    </tr>\n",
              "  </tbody>\n",
              "</table>\n",
              "</div>"
            ],
            "text/plain": [
              "   customer_id  disbursed_amount  ...  date_last_payment number_credit_lines_12\n",
              "0            0           23201.5  ...         2016-01-14                    NaN\n",
              "1            1            7425.0  ...         2016-01-25                    NaN\n",
              "2            2           11150.0  ...         2014-09-26                    NaN\n",
              "3            3            7600.0  ...         2016-01-26                    NaN\n",
              "4            4           31960.0  ...         2016-01-11                    NaN\n",
              "\n",
              "[5 rows x 14 columns]"
            ]
          },
          "metadata": {
            "tags": []
          }
        }
      ]
    },
    {
      "cell_type": "code",
      "metadata": {
        "colab": {
          "base_uri": "https://localhost:8080/"
        },
        "id": "BvzsOzlMS8iB",
        "outputId": "76938f03-8a11-4969-a555-f1122a324996"
      },
      "source": [
        "for col in loan_df.columns:\n",
        "  print(col + \" has \" + str(loan_df[col].nunique()) + \" number of unqiue values\")"
      ],
      "execution_count": null,
      "outputs": [
        {
          "output_type": "stream",
          "text": [
            "customer_id has 10000 number of unqiue values\n",
            "disbursed_amount has 2522 number of unqiue values\n",
            "interest has 1869 number of unqiue values\n",
            "market has 5 number of unqiue values\n",
            "employment has 11 number of unqiue values\n",
            "time_employed has 2 number of unqiue values\n",
            "householder has 3 number of unqiue values\n",
            "income has 2891 number of unqiue values\n",
            "date_issued has 1642 number of unqiue values\n",
            "target has 2 number of unqiue values\n",
            "loan_purpose has 8 number of unqiue values\n",
            "number_open_accounts has 45 number of unqiue values\n",
            "date_last_payment has 1071 number of unqiue values\n",
            "number_credit_lines_12 has 7 number of unqiue values\n"
          ],
          "name": "stdout"
        }
      ]
    },
    {
      "cell_type": "code",
      "metadata": {
        "colab": {
          "base_uri": "https://localhost:8080/"
        },
        "id": "CS9lZyrCUQ5-",
        "outputId": "2be5d183-5408-4222-8934-c8197af59bf8"
      },
      "source": [
        "print(\"Unique values in the housholders columns : \", loan_df['householder'].unique())\n",
        "print(\"Number of rows in each unique value : \\n\", loan_df['householder'].value_counts())"
      ],
      "execution_count": null,
      "outputs": [
        {
          "output_type": "stream",
          "text": [
            "Unique values in the housholders columns :  ['RENT' 'OWNER' 'MORTGAGE']\n",
            "Number of rows in each unique value : \n",
            " MORTGAGE    4957\n",
            "RENT        4055\n",
            "OWNER        988\n",
            "Name: householder, dtype: int64\n"
          ],
          "name": "stdout"
        }
      ]
    },
    {
      "cell_type": "code",
      "metadata": {
        "colab": {
          "base_uri": "https://localhost:8080/"
        },
        "id": "t5GhMjqLVJCG",
        "outputId": "6a77cb8c-7981-4fd3-cbcf-2f6e547185c1"
      },
      "source": [
        "print(loan_df['date_issued'].dtypes)\n",
        "loan_df['date_issued'] = pd.to_datetime(loan_df['date_issued'])\n",
        "print(loan_df['date_issued'].dtypes)"
      ],
      "execution_count": null,
      "outputs": [
        {
          "output_type": "stream",
          "text": [
            "object\n",
            "datetime64[ns]\n"
          ],
          "name": "stdout"
        }
      ]
    },
    {
      "cell_type": "code",
      "metadata": {
        "id": "GYusPe9gV-sJ"
      },
      "source": [
        "import datetime as dt\n",
        "loan_df['date_issued_month'] = loan_df['date_issued'].dt.month\n",
        "loan_df['date_issued_year'] = loan_df['date_issued'].dt.year\n",
        "loan_df['date_issued_day'] = loan_df['date_issued'].dt.day\n",
        "loan_df['date_issued_dow'] = loan_df['date_issued'].dt.weekday"
      ],
      "execution_count": null,
      "outputs": []
    },
    {
      "cell_type": "code",
      "metadata": {
        "colab": {
          "base_uri": "https://localhost:8080/",
          "height": 296
        },
        "id": "Byc0GEPkW8BI",
        "outputId": "880a400d-ccff-4cf4-ed11-6ab5667cf67e"
      },
      "source": [
        "loan_df.head()"
      ],
      "execution_count": null,
      "outputs": [
        {
          "output_type": "execute_result",
          "data": {
            "text/html": [
              "<div>\n",
              "<style scoped>\n",
              "    .dataframe tbody tr th:only-of-type {\n",
              "        vertical-align: middle;\n",
              "    }\n",
              "\n",
              "    .dataframe tbody tr th {\n",
              "        vertical-align: top;\n",
              "    }\n",
              "\n",
              "    .dataframe thead th {\n",
              "        text-align: right;\n",
              "    }\n",
              "</style>\n",
              "<table border=\"1\" class=\"dataframe\">\n",
              "  <thead>\n",
              "    <tr style=\"text-align: right;\">\n",
              "      <th></th>\n",
              "      <th>customer_id</th>\n",
              "      <th>disbursed_amount</th>\n",
              "      <th>interest</th>\n",
              "      <th>market</th>\n",
              "      <th>employment</th>\n",
              "      <th>time_employed</th>\n",
              "      <th>householder</th>\n",
              "      <th>income</th>\n",
              "      <th>date_issued</th>\n",
              "      <th>target</th>\n",
              "      <th>loan_purpose</th>\n",
              "      <th>number_open_accounts</th>\n",
              "      <th>date_last_payment</th>\n",
              "      <th>number_credit_lines_12</th>\n",
              "      <th>date_issued_month</th>\n",
              "      <th>date_issued_year</th>\n",
              "      <th>date_issued_day</th>\n",
              "      <th>date_issued_dow</th>\n",
              "    </tr>\n",
              "  </thead>\n",
              "  <tbody>\n",
              "    <tr>\n",
              "      <th>0</th>\n",
              "      <td>0</td>\n",
              "      <td>23201.5</td>\n",
              "      <td>15.4840</td>\n",
              "      <td>C</td>\n",
              "      <td>Teacher</td>\n",
              "      <td>&lt;=5 years</td>\n",
              "      <td>RENT</td>\n",
              "      <td>84600.0</td>\n",
              "      <td>2013-06-11</td>\n",
              "      <td>0</td>\n",
              "      <td>Debt consolidation</td>\n",
              "      <td>4.0</td>\n",
              "      <td>2016-01-14</td>\n",
              "      <td>NaN</td>\n",
              "      <td>6</td>\n",
              "      <td>2013</td>\n",
              "      <td>11</td>\n",
              "      <td>1</td>\n",
              "    </tr>\n",
              "    <tr>\n",
              "      <th>1</th>\n",
              "      <td>1</td>\n",
              "      <td>7425.0</td>\n",
              "      <td>11.2032</td>\n",
              "      <td>B</td>\n",
              "      <td>Accountant</td>\n",
              "      <td>&lt;=5 years</td>\n",
              "      <td>OWNER</td>\n",
              "      <td>102000.0</td>\n",
              "      <td>2014-05-08</td>\n",
              "      <td>0</td>\n",
              "      <td>Car purchase</td>\n",
              "      <td>13.0</td>\n",
              "      <td>2016-01-25</td>\n",
              "      <td>NaN</td>\n",
              "      <td>5</td>\n",
              "      <td>2014</td>\n",
              "      <td>8</td>\n",
              "      <td>3</td>\n",
              "    </tr>\n",
              "    <tr>\n",
              "      <th>2</th>\n",
              "      <td>2</td>\n",
              "      <td>11150.0</td>\n",
              "      <td>8.5100</td>\n",
              "      <td>A</td>\n",
              "      <td>Statistician</td>\n",
              "      <td>&lt;=5 years</td>\n",
              "      <td>RENT</td>\n",
              "      <td>69840.0</td>\n",
              "      <td>2013-10-26</td>\n",
              "      <td>0</td>\n",
              "      <td>Debt consolidation</td>\n",
              "      <td>8.0</td>\n",
              "      <td>2014-09-26</td>\n",
              "      <td>NaN</td>\n",
              "      <td>10</td>\n",
              "      <td>2013</td>\n",
              "      <td>26</td>\n",
              "      <td>5</td>\n",
              "    </tr>\n",
              "    <tr>\n",
              "      <th>3</th>\n",
              "      <td>3</td>\n",
              "      <td>7600.0</td>\n",
              "      <td>5.8656</td>\n",
              "      <td>A</td>\n",
              "      <td>Other</td>\n",
              "      <td>&lt;=5 years</td>\n",
              "      <td>RENT</td>\n",
              "      <td>100386.0</td>\n",
              "      <td>2015-08-20</td>\n",
              "      <td>0</td>\n",
              "      <td>Debt consolidation</td>\n",
              "      <td>20.0</td>\n",
              "      <td>2016-01-26</td>\n",
              "      <td>NaN</td>\n",
              "      <td>8</td>\n",
              "      <td>2015</td>\n",
              "      <td>20</td>\n",
              "      <td>3</td>\n",
              "    </tr>\n",
              "    <tr>\n",
              "      <th>4</th>\n",
              "      <td>4</td>\n",
              "      <td>31960.0</td>\n",
              "      <td>18.7392</td>\n",
              "      <td>E</td>\n",
              "      <td>Bus driver</td>\n",
              "      <td>&gt;5 years</td>\n",
              "      <td>RENT</td>\n",
              "      <td>95040.0</td>\n",
              "      <td>2014-07-22</td>\n",
              "      <td>0</td>\n",
              "      <td>Debt consolidation</td>\n",
              "      <td>14.0</td>\n",
              "      <td>2016-01-11</td>\n",
              "      <td>NaN</td>\n",
              "      <td>7</td>\n",
              "      <td>2014</td>\n",
              "      <td>22</td>\n",
              "      <td>1</td>\n",
              "    </tr>\n",
              "  </tbody>\n",
              "</table>\n",
              "</div>"
            ],
            "text/plain": [
              "   customer_id  disbursed_amount  ...  date_issued_day date_issued_dow\n",
              "0            0           23201.5  ...               11               1\n",
              "1            1            7425.0  ...                8               3\n",
              "2            2           11150.0  ...               26               5\n",
              "3            3            7600.0  ...               20               3\n",
              "4            4           31960.0  ...               22               1\n",
              "\n",
              "[5 rows x 18 columns]"
            ]
          },
          "metadata": {
            "tags": []
          },
          "execution_count": 84
        }
      ]
    },
    {
      "cell_type": "code",
      "metadata": {
        "colab": {
          "base_uri": "https://localhost:8080/",
          "height": 284
        },
        "id": "ZGhH2D38RHtx",
        "outputId": "7923825c-1a52-498a-e467-36bc7aa975da"
      },
      "source": [
        "import matplotlib.pyplot as plt\n",
        "# plt.boxplot(loan_df[\"householder\"], loan_df['interest'])\n",
        "z = loan_df.groupby(['householder'],as_index=False)['income'].mean()\n",
        "plt.bar(z['householder'], z['income'])"
      ],
      "execution_count": null,
      "outputs": [
        {
          "output_type": "execute_result",
          "data": {
            "text/plain": [
              "<BarContainer object of 3 artists>"
            ]
          },
          "metadata": {
            "tags": []
          },
          "execution_count": 83
        },
        {
          "output_type": "display_data",
          "data": {
            "image/png": "[encoded data removed]",
            "text/plain": [
              "<Figure size 432x288 with 1 Axes>"
            ]
          },
          "metadata": {
            "tags": [],
            "needs_background": "light"
          }
        }
      ]
    },
    {
      "cell_type": "code",
      "metadata": {
        "id": "bqSQ43vTSunN"
      },
      "source": [
        ""
      ],
      "execution_count": null,
      "outputs": []
    },
    {
      "cell_type": "code",
      "metadata": {
        "id": "wF07mPI9Qbom"
      },
      "source": [
        "catcols = [c for c in loan_df.columns if loan_df[c].dtype=='O']"
      ],
      "execution_count": null,
      "outputs": []
    },
    {
      "cell_type": "code",
      "metadata": {
        "colab": {
          "base_uri": "https://localhost:8080/"
        },
        "id": "fFiJ6ZeWQzrx",
        "outputId": "ce58a940-614e-47c2-cf66-279a5aa31e18"
      },
      "source": [
        "print(\"Number of columns with ccategorical features are :\", len(catcols))\n",
        "print(catcols)"
      ],
      "execution_count": null,
      "outputs": [
        {
          "output_type": "stream",
          "text": [
            "Number of columns with ccategorical features are : 7\n",
            "['market', 'employment', 'time_employed', 'householder', 'date_issued', 'loan_purpose', 'date_last_payment']\n"
          ],
          "name": "stdout"
        }
      ]
    },
    {
      "cell_type": "markdown",
      "metadata": {
        "id": "iQJ5Q9sVRbD3"
      },
      "source": [
        "***Although the detected columns are object datatypes the date_last_payment date_issued column which is a datetime column is also placed along wihth this***\n",
        "\n",
        "***To fix this we will try and convert it into datetime feature***\n",
        "\n",
        "``\n",
        "df['datetimecol'] = pd.to_datetime(df['datetimecol'])\n",
        "``\n",
        "\n"
      ]
    },
    {
      "cell_type": "code",
      "metadata": {
        "colab": {
          "base_uri": "https://localhost:8080/"
        },
        "id": "MqBvE47USnKT",
        "outputId": "4373d44a-eea0-44f5-f0a8-c8bbc339c0a0"
      },
      "source": [
        "loan_df['date_last_payment'] = pd.to_datetime(loan_df['date_last_payment'])\n",
        "loan_df['date_issued'] = pd.to_datetime(loan_df['date_issued'])\n",
        "catcols = [c for c in loan_df.columns if loan_df[c].dtype=='O']\n",
        "print(\"Number of columns with ccategorical features are :\", len(catcols))\n",
        "print(catcols)"
      ],
      "execution_count": null,
      "outputs": [
        {
          "output_type": "stream",
          "text": [
            "Number of columns with ccategorical features are : 5\n",
            "['market', 'employment', 'time_employed', 'householder', 'loan_purpose']\n"
          ],
          "name": "stdout"
        }
      ]
    },
    {
      "cell_type": "markdown",
      "metadata": {
        "id": "atFQQ77kkm2a"
      },
      "source": [
        ""
      ]
    }
  ]
}