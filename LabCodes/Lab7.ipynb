{
  "nbformat": 4,
  "nbformat_minor": 0,
  "metadata": {
    "colab": {
      "name": "Untitled24.ipynb",
      "provenance": []
    },
    "kernelspec": {
      "name": "python3",
      "display_name": "Python 3"
    },
    "language_info": {
      "name": "python"
    }
  },
  "cells": [
    {
      "cell_type": "markdown",
      "metadata": {
        "id": "hLlt58-YgXOk"
      },
      "source": [
        "# Lab 7"
      ]
    },
    {
      "cell_type": "code",
      "metadata": {
        "id": "LBPAOB0lpyNr"
      },
      "source": [
        "import pandas as pd\n",
        "import numpy as np\n",
        "df = pd.read_csv('/content/Salary_Data (1).csv')"
      ],
      "execution_count": null,
      "outputs": []
    },
    {
      "cell_type": "code",
      "metadata": {
        "colab": {
          "base_uri": "https://localhost:8080/",
          "height": 206
        },
        "id": "ZtWlUWLM129y",
        "outputId": "b9465452-fec7-4fd1-e6e8-8e055297ca99"
      },
      "source": [
        "df.head()"
      ],
      "execution_count": null,
      "outputs": [
        {
          "output_type": "execute_result",
          "data": {
            "text/html": [
              "<div>\n",
              "<style scoped>\n",
              "    .dataframe tbody tr th:only-of-type {\n",
              "        vertical-align: middle;\n",
              "    }\n",
              "\n",
              "    .dataframe tbody tr th {\n",
              "        vertical-align: top;\n",
              "    }\n",
              "\n",
              "    .dataframe thead th {\n",
              "        text-align: right;\n",
              "    }\n",
              "</style>\n",
              "<table border=\"1\" class=\"dataframe\">\n",
              "  <thead>\n",
              "    <tr style=\"text-align: right;\">\n",
              "      <th></th>\n",
              "      <th>age</th>\n",
              "      <th>income</th>\n",
              "    </tr>\n",
              "  </thead>\n",
              "  <tbody>\n",
              "    <tr>\n",
              "      <th>0</th>\n",
              "      <td>25</td>\n",
              "      <td>69343</td>\n",
              "    </tr>\n",
              "    <tr>\n",
              "      <th>1</th>\n",
              "      <td>28</td>\n",
              "      <td>66205</td>\n",
              "    </tr>\n",
              "    <tr>\n",
              "      <th>2</th>\n",
              "      <td>30</td>\n",
              "      <td>57731</td>\n",
              "    </tr>\n",
              "    <tr>\n",
              "      <th>3</th>\n",
              "      <td>29</td>\n",
              "      <td>63525</td>\n",
              "    </tr>\n",
              "    <tr>\n",
              "      <th>4</th>\n",
              "      <td>31</td>\n",
              "      <td>69891</td>\n",
              "    </tr>\n",
              "  </tbody>\n",
              "</table>\n",
              "</div>"
            ],
            "text/plain": [
              "   age  income\n",
              "0   25   69343\n",
              "1   28   66205\n",
              "2   30   57731\n",
              "3   29   63525\n",
              "4   31   69891"
            ]
          },
          "metadata": {
            "tags": []
          },
          "execution_count": 3
        }
      ]
    },
    {
      "cell_type": "code",
      "metadata": {
        "colab": {
          "base_uri": "https://localhost:8080/",
          "height": 297
        },
        "id": "MK4NMkuN19Ll",
        "outputId": "6af48bf7-02da-4c66-fa47-9ec84b28acd1"
      },
      "source": [
        "import seaborn as sns\n",
        "sns.scatterplot(data=df, x='age', y='income')"
      ],
      "execution_count": null,
      "outputs": [
        {
          "output_type": "execute_result",
          "data": {
            "text/plain": [
              "<matplotlib.axes._subplots.AxesSubplot at 0x7f07a4fdd9d0>"
            ]
          },
          "metadata": {
            "tags": []
          },
          "execution_count": 7
        },
        {
          "output_type": "display_data",
          "data": {
            "image/png": "[encoded data removed]",
            "text/plain": [
              "<Figure size 432x288 with 1 Axes>"
            ]
          },
          "metadata": {
            "tags": [],
            "needs_background": "light"
          }
        }
      ]
    },
    {
      "cell_type": "code",
      "metadata": {
        "id": "ml9o9voh2G5m"
      },
      "source": [
        "r = [df['age'].min(), df['age'].max()]\n",
        "r2 = [df['income'].min(), df['income'].max()]"
      ],
      "execution_count": null,
      "outputs": []
    },
    {
      "cell_type": "code",
      "metadata": {
        "id": "urOOeBA62ruf"
      },
      "source": [
        "import random\n",
        "from random import randint\n",
        "\n",
        "a1 = randint(r[0], r[1])\n",
        "a2 = randint(r[0], r[1])\n",
        "a3 = randint(r[0], r[1])\n",
        "\n",
        "i1 = randint(r2[0], r2[1])\n",
        "i2 = randint(r2[0], r2[1])\n",
        "i3 = randint(r2[0], r2[1])"
      ],
      "execution_count": null,
      "outputs": []
    },
    {
      "cell_type": "code",
      "metadata": {
        "colab": {
          "base_uri": "https://localhost:8080/"
        },
        "id": "Eta8scjG4c8S",
        "outputId": "cd50b8fe-6e1f-4c1a-8682-f52650b20dc7"
      },
      "source": [
        "a1,i1"
      ],
      "execution_count": null,
      "outputs": [
        {
          "output_type": "execute_result",
          "data": {
            "text/plain": [
              "(31, 84917)"
            ]
          },
          "metadata": {
            "tags": []
          },
          "execution_count": 33
        }
      ]
    },
    {
      "cell_type": "code",
      "metadata": {
        "colab": {
          "base_uri": "https://localhost:8080/",
          "height": 283
        },
        "id": "IuAn9Ytb3Zxx",
        "outputId": "18f73cb2-f1e1-48f0-c829-0e5db0ab5b46"
      },
      "source": [
        "sns.scatterplot(x=[a1,a2,a3],y=[i1,i2,i3])"
      ],
      "execution_count": null,
      "outputs": [
        {
          "output_type": "execute_result",
          "data": {
            "text/plain": [
              "<matplotlib.axes._subplots.AxesSubplot at 0x7f07a4e4e810>"
            ]
          },
          "metadata": {
            "tags": []
          },
          "execution_count": 32
        },
        {
          "output_type": "display_data",
          "data": {
            "image/png": "[encoded data removed]",
            "text/plain": [
              "<Figure size 432x288 with 1 Axes>"
            ]
          },
          "metadata": {
            "tags": [],
            "needs_background": "light"
          }
        }
      ]
    },
    {
      "cell_type": "code",
      "metadata": {
        "id": "PTnbEAKT5ztL"
      },
      "source": [
        ""
      ],
      "execution_count": null,
      "outputs": []
    },
    {
      "cell_type": "code",
      "metadata": {
        "id": "OpRZdnd73gZJ"
      },
      "source": [
        "from sklearn.cluster import KMeans\n",
        "kmeans = KMeans(n_clusters=3, random_state=0).fit(df.values)"
      ],
      "execution_count": null,
      "outputs": []
    },
    {
      "cell_type": "code",
      "metadata": {
        "id": "IlTFYw3_5DIK"
      },
      "source": [
        "df['cluster'] = kmeans.labels_"
      ],
      "execution_count": null,
      "outputs": []
    },
    {
      "cell_type": "code",
      "metadata": {
        "colab": {
          "base_uri": "https://localhost:8080/",
          "height": 297
        },
        "id": "a7tNeQWA5HEz",
        "outputId": "9ba3a29d-7237-44fe-d67e-3384300ac464"
      },
      "source": [
        "sns.scatterplot(data=df, x='age', y='income', hue='cluster')"
      ],
      "execution_count": null,
      "outputs": [
        {
          "output_type": "execute_result",
          "data": {
            "text/plain": [
              "<matplotlib.axes._subplots.AxesSubplot at 0x7f079a55b550>"
            ]
          },
          "metadata": {
            "tags": []
          },
          "execution_count": 39
        },
        {
          "output_type": "display_data",
          "data": {
            "image/png": "[encoded data removed]",
            "text/plain": [
              "<Figure size 432x288 with 1 Axes>"
            ]
          },
          "metadata": {
            "tags": [],
            "needs_background": "light"
          }
        }
      ]
    },
    {
      "cell_type": "code",
      "metadata": {
        "id": "C-Xtf3y95UxM"
      },
      "source": [
        "from sklearn.utils import shuffle\n",
        "df_shuffle = shuffle(df)"
      ],
      "execution_count": null,
      "outputs": []
    },
    {
      "cell_type": "code",
      "metadata": {
        "id": "_MFL0VM_7DxP"
      },
      "source": [
        "from sklearn.cluster import KMeans\n",
        "kmeans = KMeans(n_clusters=3, random_state=0).fit(df_shuffle.values)"
      ],
      "execution_count": null,
      "outputs": []
    },
    {
      "cell_type": "code",
      "metadata": {
        "id": "UiXHDXXf7UX4"
      },
      "source": [
        "df_shuffle['cluster'] = kmeans.labels_"
      ],
      "execution_count": null,
      "outputs": []
    },
    {
      "cell_type": "code",
      "metadata": {
        "id": "juouYNmI7YV8"
      },
      "source": [
        "# df_shuffle"
      ],
      "execution_count": null,
      "outputs": []
    },
    {
      "cell_type": "code",
      "metadata": {
        "colab": {
          "base_uri": "https://localhost:8080/",
          "height": 297
        },
        "id": "K5osDE4Q7ZYA",
        "outputId": "6d37c421-de7c-45c9-a8a9-171168a964b8"
      },
      "source": [
        "from sklearn.preprocessing import StandardScaler\n",
        "scaler = StandardScaler()\n",
        "X = df.values\n",
        "X = scaler.fit_transform(X)\n",
        "from sklearn.cluster import KMeans\n",
        "kmeans = KMeans(n_clusters=3, random_state=0).fit(X)\n",
        "df['cluster'] = kmeans.labels_\n",
        "sns.scatterplot(data=df, x='age', y='income', hue='cluster')"
      ],
      "execution_count": null,
      "outputs": [
        {
          "output_type": "execute_result",
          "data": {
            "text/plain": [
              "<matplotlib.axes._subplots.AxesSubplot at 0x7f079a33e690>"
            ]
          },
          "metadata": {
            "tags": []
          },
          "execution_count": 48
        },
        {
          "output_type": "display_data",
          "data": {
            "image/png": "[encoded data removed]",
            "text/plain": [
              "<Figure size 432x288 with 1 Axes>"
            ]
          },
          "metadata": {
            "tags": [],
            "needs_background": "light"
          }
        }
      ]
    },
    {
      "cell_type": "code",
      "metadata": {
        "id": "ZAvttw9Y8i0G"
      },
      "source": [
        "import pandas as pd\n",
        "df_bev = pd.read_csv('/content/bev.csv')"
      ],
      "execution_count": null,
      "outputs": []
    },
    {
      "cell_type": "code",
      "metadata": {
        "colab": {
          "base_uri": "https://localhost:8080/",
          "height": 204
        },
        "id": "14o4s_qnmAUq",
        "outputId": "6dbd3e08-4f21-4d27-ae9c-8a15692bb438"
      },
      "source": [
        "df_bev.head()"
      ],
      "execution_count": null,
      "outputs": [
        {
          "output_type": "execute_result",
          "data": {
            "text/html": [
              "<div>\n",
              "<style scoped>\n",
              "    .dataframe tbody tr th:only-of-type {\n",
              "        vertical-align: middle;\n",
              "    }\n",
              "\n",
              "    .dataframe tbody tr th {\n",
              "        vertical-align: top;\n",
              "    }\n",
              "\n",
              "    .dataframe thead th {\n",
              "        text-align: right;\n",
              "    }\n",
              "</style>\n",
              "<table border=\"1\" class=\"dataframe\">\n",
              "  <thead>\n",
              "    <tr style=\"text-align: right;\">\n",
              "      <th></th>\n",
              "      <th>Name</th>\n",
              "      <th>Potassium</th>\n",
              "      <th>Sodium</th>\n",
              "      <th>Caffeine</th>\n",
              "      <th>Cost</th>\n",
              "    </tr>\n",
              "  </thead>\n",
              "  <tbody>\n",
              "    <tr>\n",
              "      <th>0</th>\n",
              "      <td>new_england_coffee</td>\n",
              "      <td>144</td>\n",
              "      <td>15</td>\n",
              "      <td>4.7</td>\n",
              "      <td>0.43</td>\n",
              "    </tr>\n",
              "    <tr>\n",
              "      <th>1</th>\n",
              "      <td>post_alley_blend</td>\n",
              "      <td>151</td>\n",
              "      <td>19</td>\n",
              "      <td>4.9</td>\n",
              "      <td>0.43</td>\n",
              "    </tr>\n",
              "    <tr>\n",
              "      <th>2</th>\n",
              "      <td>stumpdown_coffee</td>\n",
              "      <td>157</td>\n",
              "      <td>15</td>\n",
              "      <td>0.9</td>\n",
              "      <td>0.48</td>\n",
              "    </tr>\n",
              "    <tr>\n",
              "      <th>3</th>\n",
              "      <td>bizzy_organic_coffee</td>\n",
              "      <td>170</td>\n",
              "      <td>7</td>\n",
              "      <td>5.2</td>\n",
              "      <td>0.73</td>\n",
              "    </tr>\n",
              "    <tr>\n",
              "      <th>4</th>\n",
              "      <td>indian_bean</td>\n",
              "      <td>152</td>\n",
              "      <td>11</td>\n",
              "      <td>5.0</td>\n",
              "      <td>0.77</td>\n",
              "    </tr>\n",
              "  </tbody>\n",
              "</table>\n",
              "</div>"
            ],
            "text/plain": [
              "                   Name  Potassium  Sodium  Caffeine  Cost\n",
              "0    new_england_coffee        144      15       4.7  0.43\n",
              "1      post_alley_blend        151      19       4.9  0.43\n",
              "2      stumpdown_coffee        157      15       0.9  0.48\n",
              "3  bizzy_organic_coffee        170       7       5.2  0.73\n",
              "4           indian_bean        152      11       5.0  0.77"
            ]
          },
          "metadata": {
            "tags": []
          },
          "execution_count": 57
        }
      ]
    },
    {
      "cell_type": "code",
      "metadata": {
        "id": "rOMDDo7Dxkmj"
      },
      "source": [
        "from sklearn.preprocessing import StandardScaler, RobustScaler\n",
        "scaler = StandardScaler()\n",
        "X = df_bev.iloc[:,1:].values\n",
        "X = scaler.fit_transform(X)\n",
        "df_bev_scaled = pd.DataFrame(X, columns=df_bev.columns[1:])\n",
        "df_bev_scaled.insert(loc=0, column='Name', value=df_bev['Name'])"
      ],
      "execution_count": null,
      "outputs": []
    },
    {
      "cell_type": "code",
      "metadata": {
        "id": "69HJD-Wa5R7N"
      },
      "source": [
        "scaler = RobustScaler()\n",
        "X = df_bev.iloc[:,1:].values\n",
        "X = scaler.fit_transform(X)\n",
        "df_bev_scaled_robust = pd.DataFrame(X, columns=df_bev.columns[1:])\n",
        "df_bev_scaled_robust.insert(loc=0, column='Name', value=df_bev['Name'])"
      ],
      "execution_count": null,
      "outputs": []
    },
    {
      "cell_type": "code",
      "metadata": {
        "id": "3J92UdzZyW1h"
      },
      "source": [
        "# df_bev_scaled_robust"
      ],
      "execution_count": null,
      "outputs": []
    },
    {
      "cell_type": "code",
      "metadata": {
        "id": "KLEwxq6LEaj1"
      },
      "source": [
        "from sklearn.cluster import KMeans\n",
        "kmeans = KMeans(n_clusters=3, random_state=0).fit(df_bev.iloc[:,1:].values)\n",
        "df_bev['cluster_no_scaling'] = kmeans.labels_\n",
        "\n",
        "from sklearn.cluster import AgglomerativeClustering\n",
        "clustering = AgglomerativeClustering(n_clusters=3).fit(df_bev.iloc[:,1:].values)\n",
        "df_bev['cluster_no_scaling_agglo'] = clustering.labels_"
      ],
      "execution_count": null,
      "outputs": []
    },
    {
      "cell_type": "code",
      "metadata": {
        "colab": {
          "base_uri": "https://localhost:8080/"
        },
        "id": "N4lrUYFa7bBP",
        "outputId": "2a622cae-e98c-4c74-e224-73a0c8304c32"
      },
      "source": [
        "from sklearn.cluster import KMeans\n",
        "kmeans = KMeans(n_clusters=3, random_state=0).fit(df_bev_scaled.iloc[:,1:])\n",
        "df_bev_scaled['cluster'] = kmeans.labels_\n",
        "print(kmeans.cluster_centers_)\n",
        "\n",
        "from sklearn.cluster import AgglomerativeClustering\n",
        "clustering = AgglomerativeClustering(n_clusters=3).fit(df_bev_scaled.iloc[:,1:])\n",
        "df_bev_scaled['cluster_agglo'] = clustering.labels_"
      ],
      "execution_count": null,
      "outputs": [
        {
          "output_type": "stream",
          "text": [
            "[[-0.92065895 -0.6352664  -0.86290041 -0.33288365]\n",
            " [ 0.5361335   0.96264295  0.51632566 -0.61618888]\n",
            " [ 0.7690509  -0.6547531   0.69314951  1.89814505]]\n"
          ],
          "name": "stdout"
        }
      ]
    },
    {
      "cell_type": "code",
      "metadata": {
        "id": "nRK3pSkR603w"
      },
      "source": [
        "from sklearn.cluster import KMeans\n",
        "kmeans = KMeans(n_clusters=3, random_state=0).fit(df_bev_scaled_robust.iloc[:,1:].values)\n",
        "df_bev_scaled_robust['cluster_robust'] = kmeans.labels_\n",
        "\n",
        "from sklearn.cluster import AgglomerativeClustering\n",
        "clustering = AgglomerativeClustering(n_clusters=3).fit(df_bev_scaled_robust.iloc[:,1:].values)\n",
        "df_bev_scaled_robust['cluster_robust_agglo'] = clustering.labels_"
      ],
      "execution_count": null,
      "outputs": []
    },
    {
      "cell_type": "code",
      "metadata": {
        "colab": {
          "base_uri": "https://localhost:8080/",
          "height": 669
        },
        "id": "mCX5xpYv7ii6",
        "outputId": "48d7f35a-26c1-4bcf-ea69-6c499afdd1fa"
      },
      "source": [
        "df_bev_scaled_robust"
      ],
      "execution_count": null,
      "outputs": [
        {
          "output_type": "execute_result",
          "data": {
            "text/html": [
              "<div>\n",
              "<style scoped>\n",
              "    .dataframe tbody tr th:only-of-type {\n",
              "        vertical-align: middle;\n",
              "    }\n",
              "\n",
              "    .dataframe tbody tr th {\n",
              "        vertical-align: top;\n",
              "    }\n",
              "\n",
              "    .dataframe thead th {\n",
              "        text-align: right;\n",
              "    }\n",
              "</style>\n",
              "<table border=\"1\" class=\"dataframe\">\n",
              "  <thead>\n",
              "    <tr style=\"text-align: right;\">\n",
              "      <th></th>\n",
              "      <th>Name</th>\n",
              "      <th>Potassium</th>\n",
              "      <th>Sodium</th>\n",
              "      <th>Caffeine</th>\n",
              "      <th>Cost</th>\n",
              "      <th>cluster_robust</th>\n",
              "      <th>cluster_robust_agglo</th>\n",
              "    </tr>\n",
              "  </thead>\n",
              "  <tbody>\n",
              "    <tr>\n",
              "      <th>0</th>\n",
              "      <td>new_england_coffee</td>\n",
              "      <td>0.000</td>\n",
              "      <td>0.000000</td>\n",
              "      <td>0.137931</td>\n",
              "      <td>-0.086957</td>\n",
              "      <td>0</td>\n",
              "      <td>0</td>\n",
              "    </tr>\n",
              "    <tr>\n",
              "      <th>1</th>\n",
              "      <td>post_alley_blend</td>\n",
              "      <td>0.175</td>\n",
              "      <td>0.421053</td>\n",
              "      <td>0.413793</td>\n",
              "      <td>-0.086957</td>\n",
              "      <td>0</td>\n",
              "      <td>0</td>\n",
              "    </tr>\n",
              "    <tr>\n",
              "      <th>2</th>\n",
              "      <td>stumpdown_coffee</td>\n",
              "      <td>0.325</td>\n",
              "      <td>0.000000</td>\n",
              "      <td>-5.103448</td>\n",
              "      <td>0.782609</td>\n",
              "      <td>2</td>\n",
              "      <td>2</td>\n",
              "    </tr>\n",
              "    <tr>\n",
              "      <th>3</th>\n",
              "      <td>bizzy_organic_coffee</td>\n",
              "      <td>0.650</td>\n",
              "      <td>-0.842105</td>\n",
              "      <td>0.827586</td>\n",
              "      <td>5.130435</td>\n",
              "      <td>1</td>\n",
              "      <td>1</td>\n",
              "    </tr>\n",
              "    <tr>\n",
              "      <th>4</th>\n",
              "      <td>indian_bean</td>\n",
              "      <td>0.200</td>\n",
              "      <td>-0.421053</td>\n",
              "      <td>0.551724</td>\n",
              "      <td>5.826087</td>\n",
              "      <td>1</td>\n",
              "      <td>1</td>\n",
              "    </tr>\n",
              "    <tr>\n",
              "      <th>5</th>\n",
              "      <td>jacobs_coffee</td>\n",
              "      <td>0.025</td>\n",
              "      <td>0.842105</td>\n",
              "      <td>0.000000</td>\n",
              "      <td>-2.695652</td>\n",
              "      <td>0</td>\n",
              "      <td>0</td>\n",
              "    </tr>\n",
              "    <tr>\n",
              "      <th>6</th>\n",
              "      <td>grounds_hounds_coffee</td>\n",
              "      <td>0.775</td>\n",
              "      <td>0.947368</td>\n",
              "      <td>1.241379</td>\n",
              "      <td>-0.608696</td>\n",
              "      <td>0</td>\n",
              "      <td>0</td>\n",
              "    </tr>\n",
              "    <tr>\n",
              "      <th>7</th>\n",
              "      <td>la_columbe_corisca</td>\n",
              "      <td>0.125</td>\n",
              "      <td>1.263158</td>\n",
              "      <td>0.137931</td>\n",
              "      <td>-0.260870</td>\n",
              "      <td>0</td>\n",
              "      <td>0</td>\n",
              "    </tr>\n",
              "    <tr>\n",
              "      <th>8</th>\n",
              "      <td>lavazza_super_crema</td>\n",
              "      <td>-1.125</td>\n",
              "      <td>-0.526316</td>\n",
              "      <td>-0.413793</td>\n",
              "      <td>-0.086957</td>\n",
              "      <td>0</td>\n",
              "      <td>0</td>\n",
              "    </tr>\n",
              "    <tr>\n",
              "      <th>9</th>\n",
              "      <td>mount_hagen</td>\n",
              "      <td>-0.775</td>\n",
              "      <td>-0.736842</td>\n",
              "      <td>-1.241379</td>\n",
              "      <td>-0.608696</td>\n",
              "      <td>0</td>\n",
              "      <td>0</td>\n",
              "    </tr>\n",
              "    <tr>\n",
              "      <th>10</th>\n",
              "      <td>red_bay_coffee</td>\n",
              "      <td>-0.100</td>\n",
              "      <td>0.315789</td>\n",
              "      <td>0.000000</td>\n",
              "      <td>0.086957</td>\n",
              "      <td>0</td>\n",
              "      <td>0</td>\n",
              "    </tr>\n",
              "    <tr>\n",
              "      <th>11</th>\n",
              "      <td>peerless_wholebean</td>\n",
              "      <td>-1.050</td>\n",
              "      <td>0.000000</td>\n",
              "      <td>-0.689655</td>\n",
              "      <td>0.434783</td>\n",
              "      <td>0</td>\n",
              "      <td>0</td>\n",
              "    </tr>\n",
              "    <tr>\n",
              "      <th>12</th>\n",
              "      <td>stone_street_coffee</td>\n",
              "      <td>-0.225</td>\n",
              "      <td>-0.421053</td>\n",
              "      <td>-0.551724</td>\n",
              "      <td>1.130435</td>\n",
              "      <td>0</td>\n",
              "      <td>0</td>\n",
              "    </tr>\n",
              "    <tr>\n",
              "      <th>13</th>\n",
              "      <td>green_mountain_coffee</td>\n",
              "      <td>0.150</td>\n",
              "      <td>0.421053</td>\n",
              "      <td>0.137931</td>\n",
              "      <td>5.652174</td>\n",
              "      <td>1</td>\n",
              "      <td>1</td>\n",
              "    </tr>\n",
              "    <tr>\n",
              "      <th>14</th>\n",
              "      <td>koffee_cuit</td>\n",
              "      <td>0.125</td>\n",
              "      <td>-0.947368</td>\n",
              "      <td>0.551724</td>\n",
              "      <td>6.173913</td>\n",
              "      <td>1</td>\n",
              "      <td>1</td>\n",
              "    </tr>\n",
              "    <tr>\n",
              "      <th>15</th>\n",
              "      <td>caribou_coffee</td>\n",
              "      <td>-1.900</td>\n",
              "      <td>0.000000</td>\n",
              "      <td>-3.172414</td>\n",
              "      <td>-0.956522</td>\n",
              "      <td>2</td>\n",
              "      <td>2</td>\n",
              "    </tr>\n",
              "    <tr>\n",
              "      <th>16</th>\n",
              "      <td>irish_hazelnut_coffee</td>\n",
              "      <td>-0.125</td>\n",
              "      <td>0.421053</td>\n",
              "      <td>-0.275862</td>\n",
              "      <td>-0.086957</td>\n",
              "      <td>0</td>\n",
              "      <td>0</td>\n",
              "    </tr>\n",
              "    <tr>\n",
              "      <th>17</th>\n",
              "      <td>cremoso_coffee</td>\n",
              "      <td>0.000</td>\n",
              "      <td>0.947368</td>\n",
              "      <td>0.413793</td>\n",
              "      <td>-0.086957</td>\n",
              "      <td>0</td>\n",
              "      <td>0</td>\n",
              "    </tr>\n",
              "    <tr>\n",
              "      <th>18</th>\n",
              "      <td>davidoff_coffee</td>\n",
              "      <td>-1.800</td>\n",
              "      <td>-0.947368</td>\n",
              "      <td>-2.344828</td>\n",
              "      <td>0.434783</td>\n",
              "      <td>2</td>\n",
              "      <td>2</td>\n",
              "    </tr>\n",
              "    <tr>\n",
              "      <th>19</th>\n",
              "      <td>js_coffee</td>\n",
              "      <td>-1.175</td>\n",
              "      <td>-0.842105</td>\n",
              "      <td>-0.551724</td>\n",
              "      <td>0.608696</td>\n",
              "      <td>0</td>\n",
              "      <td>0</td>\n",
              "    </tr>\n",
              "  </tbody>\n",
              "</table>\n",
              "</div>"
            ],
            "text/plain": [
              "                     Name  Potassium  ...  cluster_robust  cluster_robust_agglo\n",
              "0      new_england_coffee      0.000  ...               0                     0\n",
              "1        post_alley_blend      0.175  ...               0                     0\n",
              "2        stumpdown_coffee      0.325  ...               2                     2\n",
              "3    bizzy_organic_coffee      0.650  ...               1                     1\n",
              "4             indian_bean      0.200  ...               1                     1\n",
              "5           jacobs_coffee      0.025  ...               0                     0\n",
              "6   grounds_hounds_coffee      0.775  ...               0                     0\n",
              "7      la_columbe_corisca      0.125  ...               0                     0\n",
              "8     lavazza_super_crema     -1.125  ...               0                     0\n",
              "9             mount_hagen     -0.775  ...               0                     0\n",
              "10         red_bay_coffee     -0.100  ...               0                     0\n",
              "11     peerless_wholebean     -1.050  ...               0                     0\n",
              "12    stone_street_coffee     -0.225  ...               0                     0\n",
              "13  green_mountain_coffee      0.150  ...               1                     1\n",
              "14            koffee_cuit      0.125  ...               1                     1\n",
              "15         caribou_coffee     -1.900  ...               2                     2\n",
              "16  irish_hazelnut_coffee     -0.125  ...               0                     0\n",
              "17         cremoso_coffee      0.000  ...               0                     0\n",
              "18        davidoff_coffee     -1.800  ...               2                     2\n",
              "19              js_coffee     -1.175  ...               0                     0\n",
              "\n",
              "[20 rows x 7 columns]"
            ]
          },
          "metadata": {
            "tags": []
          },
          "execution_count": 66
        }
      ]
    },
    {
      "cell_type": "code",
      "metadata": {
        "id": "jaD7cpcZEwgw"
      },
      "source": [
        "# df_bev"
      ],
      "execution_count": null,
      "outputs": []
    },
    {
      "cell_type": "code",
      "metadata": {
        "id": "ngahvqEUAQsx"
      },
      "source": [
        "# from sklearn.preprocessing import StandardScaler, RobustScaler\n",
        "# # scaler = StandardScaler()\n",
        "# # X = df_bev.iloc[:,1:].values\n",
        "# # X = scaler.fit_transform(X)\n",
        "# from sklearn.cluster import KMeans\n",
        "# kmeans = KMeans(n_clusters=3, random_state=0).fit(df_bev_scaled.iloc[:,1:])\n",
        "# df_bev_scaled['cluster'] = kmeans.labels_\n",
        "# print(kmeans.cluster_centers_)\n",
        "\n",
        "# from sklearn.cluster import AgglomerativeClustering\n",
        "# clustering = AgglomerativeClustering(n_clusters=3).fit(df_bev_scaled.iloc[:,1:])\n",
        "# df_bev_scaled['cluster_agglo'] = clustering.labels_"
      ],
      "execution_count": null,
      "outputs": []
    },
    {
      "cell_type": "code",
      "metadata": {
        "id": "07u20ftIzoZ7"
      },
      "source": [
        "# df_bev_scaled"
      ],
      "execution_count": null,
      "outputs": []
    },
    {
      "cell_type": "code",
      "metadata": {
        "id": "bEHnGhgHBQmF"
      },
      "source": [
        "# df_bev.head()"
      ],
      "execution_count": null,
      "outputs": []
    },
    {
      "cell_type": "code",
      "metadata": {
        "id": "NeGQpD4U0goL"
      },
      "source": [
        "from sklearn.decomposition import PCA\n",
        "pca = PCA(n_components=2)\n",
        "X = pca.fit_transform(df_bev.iloc[:,1:5].values)\n",
        "df_new = pd.DataFrame(X, columns=['PCA1', 'PCA2'])\n",
        "X_scaled = pca.fit_transform(df_bev_scaled.iloc[:,1:5].values)\n",
        "df_new_scaled = pd.DataFrame(X_scaled, columns=['PCA1', 'PCA2'])\n",
        "X_scaled_robust = pca.fit_transform(df_bev_scaled_robust.iloc[:,1:5].values)\n",
        "df_new_scaled_robust = pd.DataFrame(X_scaled_robust, columns=['PCA1', 'PCA2'])"
      ],
      "execution_count": null,
      "outputs": []
    },
    {
      "cell_type": "code",
      "metadata": {
        "id": "d3rySkFt2Gtv"
      },
      "source": [
        "df_new['cluster'] = df_bev['cluster_no_scaling']\n",
        "df_new['cluster_agglo'] = df_bev['cluster_no_scaling_agglo']\n",
        "\n",
        "df_new_scaled['cluster'] = df_bev_scaled['cluster']\n",
        "df_new_scaled['cluster_agglo'] = df_bev_scaled['cluster_agglo']\n",
        "\n",
        "df_new_scaled_robust['cluster'] = df_bev_scaled_robust['cluster_robust']\n",
        "df_new_scaled_robust['cluster_agglo'] = df_bev_scaled_robust['cluster_robust_agglo']"
      ],
      "execution_count": null,
      "outputs": []
    },
    {
      "cell_type": "code",
      "metadata": {
        "id": "fZVgPeUc2Lh3"
      },
      "source": [
        "\n",
        "# sns.scatterplot(data=df_new, x='PCA1', y='PCA2', hue=col, style=col, palette=sns.color_palette(\"husl\", 3))"
      ],
      "execution_count": null,
      "outputs": []
    },
    {
      "cell_type": "code",
      "metadata": {
        "colab": {
          "base_uri": "https://localhost:8080/",
          "height": 541
        },
        "id": "71S0l9At0wtA",
        "outputId": "816270ef-44a2-4547-a29c-4276e6feb64d"
      },
      "source": [
        "import matplotlib.pyplot as plt\n",
        "import seaborn as sns\n",
        "sns.set_style(\"darkgrid\")\n",
        "for col in df_new.columns[2:]:\n",
        "  sns.scatterplot(data=df_new, x='PCA1', y='PCA2', hue=col, style=col, palette=sns.color_palette(\"husl\", 3))\n",
        "  plt.show()"
      ],
      "execution_count": null,
      "outputs": [
        {
          "output_type": "display_data",
          "data": {
            "image/png": "[encoded data removed]",
            "text/plain": [
              "<Figure size 432x288 with 1 Axes>"
            ]
          },
          "metadata": {
            "tags": []
          }
        },
        {
          "output_type": "display_data",
          "data": {
            "image/png": "[encoded data removed]",
            "text/plain": [
              "<Figure size 432x288 with 1 Axes>"
            ]
          },
          "metadata": {
            "tags": []
          }
        }
      ]
    },
    {
      "cell_type": "code",
      "metadata": {
        "colab": {
          "base_uri": "https://localhost:8080/",
          "height": 541
        },
        "id": "ODudZiri2glc",
        "outputId": "fdf279dd-2049-4481-a764-987238e7905e"
      },
      "source": [
        "import matplotlib.pyplot as plt\n",
        "import seaborn as sns\n",
        "sns.set_style(\"darkgrid\")\n",
        "for col in df_new.columns[2:]:\n",
        "  sns.scatterplot(data=df_new_scaled, x='PCA1', y='PCA2', hue=col, style=col, palette=sns.color_palette(\"husl\", 3))\n",
        "  plt.show()"
      ],
      "execution_count": null,
      "outputs": [
        {
          "output_type": "display_data",
          "data": {
            "image/png": "[encoded data removed]",
            "text/plain": [
              "<Figure size 432x288 with 1 Axes>"
            ]
          },
          "metadata": {
            "tags": []
          }
        },
        {
          "output_type": "display_data",
          "data": {
            "image/png": "[encoded data removed]",
            "text/plain": [
              "<Figure size 432x288 with 1 Axes>"
            ]
          },
          "metadata": {
            "tags": []
          }
        }
      ]
    },
    {
      "cell_type": "code",
      "metadata": {
        "id": "ZdJXW8we8cfr",
        "colab": {
          "base_uri": "https://localhost:8080/",
          "height": 541
        },
        "outputId": "72ed0549-d684-4073-d0a7-c2977a84f348"
      },
      "source": [
        "import matplotlib.pyplot as plt\n",
        "import seaborn as sns\n",
        "sns.set_style(\"darkgrid\")\n",
        "for col in df_new.columns[2:]:\n",
        "  sns.scatterplot(data=df_new_scaled_robust, x='PCA1', y='PCA2', hue=col, style=col, palette=sns.color_palette(\"husl\", 3))\n",
        "  plt.show()"
      ],
      "execution_count": null,
      "outputs": [
        {
          "output_type": "display_data",
          "data": {
            "image/png": "[encoded data removed]",
            "text/plain": [
              "<Figure size 432x288 with 1 Axes>"
            ]
          },
          "metadata": {
            "tags": []
          }
        },
        {
          "output_type": "display_data",
          "data": {
            "image/png": "[encoded data removed]",
            "text/plain": [
              "<Figure size 432x288 with 1 Axes>"
            ]
          },
          "metadata": {
            "tags": []
          }
        }
      ]
    },
    {
      "cell_type": "code",
      "metadata": {
        "id": "qT-xzN1dBazo"
      },
      "source": [
        "from sklearn.decomposition import PCA\n",
        "pca = PCA(n_components=2)\n",
        "X = pca.fit_transform(df_bev.iloc[:,1:5].values)\n",
        "df_new = pd.DataFrame(X, columns=['PCA1', 'PCA2'])\n",
        "df_new['cluster'] = df_bev['cluster']\n",
        "df_new['cluster_agglo'] = df_bev['cluster_agglo']\n",
        "df_new['cluster_no_scaling'] = df_bev['cluster_no_scaling']\n",
        "df_new['cluster_no_scaling_agglo'] = df_bev['cluster_no_scaling_agglo']"
      ],
      "execution_count": null,
      "outputs": []
    },
    {
      "cell_type": "code",
      "metadata": {
        "colab": {
          "base_uri": "https://localhost:8080/",
          "height": 1000
        },
        "id": "7BUz3ZNXF2WS",
        "outputId": "8aeafd75-4569-40b6-ba82-27107d556c4e"
      },
      "source": [
        "import matplotlib.pyplot as plt\n",
        "sns.set_style(\"darkgrid\")\n",
        "for col in df_new.columns[2:]:\n",
        "  sns.scatterplot(data=df_new, x='PCA1', y='PCA2', hue=col, style=col, palette=sns.color_palette(\"husl\", 3))\n",
        "  plt.show()"
      ],
      "execution_count": null,
      "outputs": [
        {
          "output_type": "display_data",
          "data": {
            "image/png": "[encoded data removed]",
            "text/plain": [
              "<Figure size 432x288 with 1 Axes>"
            ]
          },
          "metadata": {
            "tags": []
          }
        },
        {
          "output_type": "display_data",
          "data": {
            "image/png": "[encoded data removed]",
            "text/plain": [
              "<Figure size 432x288 with 1 Axes>"
            ]
          },
          "metadata": {
            "tags": []
          }
        },
        {
          "output_type": "display_data",
          "data": {
            "image/png": "[encoded data removed]",
            "text/plain": [
              "<Figure size 432x288 with 1 Axes>"
            ]
          },
          "metadata": {
            "tags": []
          }
        },
        {
          "output_type": "display_data",
          "data": {
            "image/png": "[encoded data removed]",
            "text/plain": [
              "<Figure size 432x288 with 1 Axes>"
            ]
          },
          "metadata": {
            "tags": []
          }
        }
      ]
    },
    {
      "cell_type": "code",
      "metadata": {
        "colab": {
          "base_uri": "https://localhost:8080/",
          "height": 76
        },
        "id": "EXerPeBbCK9V",
        "outputId": "375afa57-42b3-4483-e506-1cb6d71fa31e"
      },
      "source": [
        "sns.color_palette()"
      ],
      "execution_count": null,
      "outputs": [
        {
          "output_type": "execute_result",
          "data": {
            "text/html": [
              "<svg  width=\"550\" height=\"55\"><rect x=\"0\" y=\"0\" width=\"55\" height=\"55\" style=\"fill:#1f77b4;stroke-width:2;stroke:rgb(255,255,255)\"/><rect x=\"55\" y=\"0\" width=\"55\" height=\"55\" style=\"fill:#ff7f0e;stroke-width:2;stroke:rgb(255,255,255)\"/><rect x=\"110\" y=\"0\" width=\"55\" height=\"55\" style=\"fill:#2ca02c;stroke-width:2;stroke:rgb(255,255,255)\"/><rect x=\"165\" y=\"0\" width=\"55\" height=\"55\" style=\"fill:#d62728;stroke-width:2;stroke:rgb(255,255,255)\"/><rect x=\"220\" y=\"0\" width=\"55\" height=\"55\" style=\"fill:#9467bd;stroke-width:2;stroke:rgb(255,255,255)\"/><rect x=\"275\" y=\"0\" width=\"55\" height=\"55\" style=\"fill:#8c564b;stroke-width:2;stroke:rgb(255,255,255)\"/><rect x=\"330\" y=\"0\" width=\"55\" height=\"55\" style=\"fill:#e377c2;stroke-width:2;stroke:rgb(255,255,255)\"/><rect x=\"385\" y=\"0\" width=\"55\" height=\"55\" style=\"fill:#7f7f7f;stroke-width:2;stroke:rgb(255,255,255)\"/><rect x=\"440\" y=\"0\" width=\"55\" height=\"55\" style=\"fill:#bcbd22;stroke-width:2;stroke:rgb(255,255,255)\"/><rect x=\"495\" y=\"0\" width=\"55\" height=\"55\" style=\"fill:#17becf;stroke-width:2;stroke:rgb(255,255,255)\"/></svg>"
            ],
            "text/plain": [
              "[(0.12156862745098039, 0.4666666666666667, 0.7058823529411765),\n",
              " (1.0, 0.4980392156862745, 0.054901960784313725),\n",
              " (0.17254901960784313, 0.6274509803921569, 0.17254901960784313),\n",
              " (0.8392156862745098, 0.15294117647058825, 0.1568627450980392),\n",
              " (0.5803921568627451, 0.403921568627451, 0.7411764705882353),\n",
              " (0.5490196078431373, 0.33725490196078434, 0.29411764705882354),\n",
              " (0.8901960784313725, 0.4666666666666667, 0.7607843137254902),\n",
              " (0.4980392156862745, 0.4980392156862745, 0.4980392156862745),\n",
              " (0.7372549019607844, 0.7411764705882353, 0.13333333333333333),\n",
              " (0.09019607843137255, 0.7450980392156863, 0.8117647058823529)]"
            ]
          },
          "metadata": {
            "tags": []
          },
          "execution_count": 101
        }
      ]
    },
    {
      "cell_type": "code",
      "metadata": {
        "colab": {
          "base_uri": "https://localhost:8080/",
          "height": 76
        },
        "id": "wv4nNXvcK-Xt",
        "outputId": "8d1ecae5-c3aa-4ff2-bb73-a1e157ce7f9a"
      },
      "source": [
        "sns.color_palette(\"husl\", 3)"
      ],
      "execution_count": null,
      "outputs": [
        {
          "output_type": "execute_result",
          "data": {
            "text/html": [
              "<svg  width=\"165\" height=\"55\"><rect x=\"0\" y=\"0\" width=\"55\" height=\"55\" style=\"fill:#f77189;stroke-width:2;stroke:rgb(255,255,255)\"/><rect x=\"55\" y=\"0\" width=\"55\" height=\"55\" style=\"fill:#50b131;stroke-width:2;stroke:rgb(255,255,255)\"/><rect x=\"110\" y=\"0\" width=\"55\" height=\"55\" style=\"fill:#3ba3ec;stroke-width:2;stroke:rgb(255,255,255)\"/></svg>"
            ],
            "text/plain": [
              "[(0.9677975592919913, 0.44127456009157356, 0.5358103155058701),\n",
              " (0.3126890019504329, 0.6928754610296064, 0.1923704830330379),\n",
              " (0.23299120924703914, 0.639586552066035, 0.9260706093977744)]"
            ]
          },
          "metadata": {
            "tags": []
          },
          "execution_count": 102
        }
      ]
    },
    {
      "cell_type": "code",
      "metadata": {
        "id": "01kkPrVPnTre"
      },
      "source": [
        ""
      ],
      "execution_count": null,
      "outputs": []
    }
  ]
}